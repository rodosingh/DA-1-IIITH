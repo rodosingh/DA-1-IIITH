{
 "cells": [
  {
   "cell_type": "markdown",
   "metadata": {},
   "source": [
    "# Objective"
   ]
  },
  {
   "cell_type": "markdown",
   "metadata": {},
   "source": [
    "Use __KNN__, __Decision Trees__ and __Ensemble Learning__ to build classifiers for predicting labels as Magnitude($M_w$). \n",
    "\n",
    "1. Use an appropriate threshold, $T$, that seem fit between $[4, 5]$ inclusive. For $M_w < T$, label becomes $0$ (no earthquake) and for $M_w \\geq T$ becomes $1$ (earthquake). \n",
    "2. Use appropriate features as input from the dataset that you seem fit.\n",
    "3. Use `roc_auc()` score as evaluation metric."
   ]
  },
  {
   "cell_type": "markdown",
   "metadata": {},
   "source": [
    "## Dataset Overview"
   ]
  },
  {
   "cell_type": "markdown",
   "metadata": {},
   "source": [
    "You are given the enclosed data files in the csv file. They are data about occurrences of earth quakes in a geographical region. The meta data is :\n",
    "\n",
    "* **Sl. No.**: Serial Number\n",
    "* **Year, Month, Day**: Date of a particular earthquake as per UTC (Coordinated Universal Time)\n",
    "* **Origin Time** of earthquake in UTC and IST (Indian Standard Time) in $[Hour: Minute: seconds]$ format \n",
    "* **Magnitude of Earthquake**: There are a different way to represent the magnitude of an earthquake. For your study, you can consider $M_w$, since we are deriving other types from $M_w$ only.\n",
    "* GPS Location in terms of Latitude(Lat) and Longitude(Long) of earthquake.\n",
    "* **Depth**: Depth of occurrence of an earthquake in kilometre\n",
    "* **Location**: Name of a region where an earthquake took place\n",
    "* **Source**: The agency from which we have gathered the data, for e.g. IMD=Indian Meteorological Department, Min. of Earth Science, Government of India\\\n",
    "A sample row :\n",
    "\n",
    "| 52165 | 2016 | 7   | 7   | 22:24:02 | 3.3 | 3.3 | 3.164855 | 2.438576 | 3.019937 | 26.8 N | 89.5 E | 40  | Jalpaiguri,West Bengal | IMD |\n",
    "|-------|------|-----|-----|----------|-----|-----|----------|----------|----------|--------|--------|-----|------------------------|-----|\n",
    "\n",
    "<br>read as:<br>\n",
    "**\"A 3.3 magnitude earthquake occurred on 7th July 2016 at 22:24:02 (UTC). The location of earthquake event was Jalpaiguri, West Bengal area with GPS location 26.8 N 89.5 E at a depth of 40km published by the source IMD\"**"
   ]
  },
  {
   "cell_type": "markdown",
   "metadata": {},
   "source": [
    "# Import Essential Libraries..."
   ]
  },
  {
   "cell_type": "code",
   "execution_count": 1,
   "metadata": {},
   "outputs": [],
   "source": [
    "import os\n",
    "import numpy as np\n",
    "import pandas as pd\n",
    "pd.plotting.register_matplotlib_converters()\n",
    "import matplotlib as mpl\n",
    "import matplotlib.pyplot as plt\n",
    "%matplotlib inline\n",
    "mpl.rc('axes', labelsize=20)\n",
    "mpl.rc('xtick', labelsize=18)\n",
    "mpl.rc('ytick', labelsize=18)\n",
    "import seaborn as sns"
   ]
  },
  {
   "cell_type": "code",
   "execution_count": 34,
   "metadata": {},
   "outputs": [],
   "source": [
    "# Data Cleaning Libraries...\n",
    "\n",
    "from sklearn.impute import KNNImputer\n",
    "#from impyute.imputation.cs import mice\n",
    "import datawig\n",
    "\n",
    "# importing the MICE from fancyimpute library\n",
    "from fancyimpute import IterativeImputer as MICE\n",
    "# Calling Estimators for IterativeImputer class from Scikit library\n",
    "from sklearn.experimental import enable_iterative_imputer\n",
    "from sklearn.impute import IterativeImputer\n",
    "from sklearn.linear_model import BayesianRidge\n",
    "from sklearn.ensemble import ExtraTreesRegressor\n",
    "from sklearn.ensemble import RandomForestRegressor"
   ]
  },
  {
   "cell_type": "markdown",
   "metadata": {},
   "source": [
    "# EDA (Exploratory Data Analysis)"
   ]
  },
  {
   "cell_type": "code",
   "execution_count": 2,
   "metadata": {},
   "outputs": [],
   "source": [
    "# Iport dataset\n",
    "data = pd.read_excel(\"Indian Earthquakes List Update_Magnitudes.xls\")"
   ]
  },
  {
   "cell_type": "code",
   "execution_count": 3,
   "metadata": {},
   "outputs": [
    {
     "data": {
      "text/html": [
       "<div>\n",
       "<style scoped>\n",
       "    .dataframe tbody tr th:only-of-type {\n",
       "        vertical-align: middle;\n",
       "    }\n",
       "\n",
       "    .dataframe tbody tr th {\n",
       "        vertical-align: top;\n",
       "    }\n",
       "\n",
       "    .dataframe thead th {\n",
       "        text-align: right;\n",
       "    }\n",
       "</style>\n",
       "<table border=\"1\" class=\"dataframe\">\n",
       "  <thead>\n",
       "    <tr style=\"text-align: right;\">\n",
       "      <th></th>\n",
       "      <th>Earthquake Engineering Research Centre</th>\n",
       "      <th>Unnamed: 1</th>\n",
       "      <th>Unnamed: 2</th>\n",
       "      <th>Unnamed: 3</th>\n",
       "      <th>Unnamed: 4</th>\n",
       "      <th>Unnamed: 5</th>\n",
       "      <th>Unnamed: 6</th>\n",
       "      <th>Unnamed: 7</th>\n",
       "      <th>Unnamed: 8</th>\n",
       "      <th>Unnamed: 9</th>\n",
       "      <th>Unnamed: 10</th>\n",
       "      <th>Unnamed: 11</th>\n",
       "      <th>Unnamed: 12</th>\n",
       "      <th>Unnamed: 13</th>\n",
       "      <th>Unnamed: 14</th>\n",
       "      <th>Unnamed: 15</th>\n",
       "      <th>Unnamed: 16</th>\n",
       "      <th>Unnamed: 17</th>\n",
       "      <th>Unnamed: 18</th>\n",
       "      <th>Unnamed: 19</th>\n",
       "    </tr>\n",
       "  </thead>\n",
       "  <tbody>\n",
       "    <tr>\n",
       "      <th>0</th>\n",
       "      <td>International Institute of Information Technology</td>\n",
       "      <td>NaN</td>\n",
       "      <td>NaN</td>\n",
       "      <td>NaN</td>\n",
       "      <td>NaN</td>\n",
       "      <td>NaN</td>\n",
       "      <td>NaN</td>\n",
       "      <td>NaN</td>\n",
       "      <td>NaN</td>\n",
       "      <td>NaN</td>\n",
       "      <td>NaN</td>\n",
       "      <td>NaN</td>\n",
       "      <td>NaN</td>\n",
       "      <td>NaN</td>\n",
       "      <td>NaN</td>\n",
       "      <td>NaN</td>\n",
       "      <td>NaN</td>\n",
       "      <td>NaN</td>\n",
       "      <td>NaN</td>\n",
       "      <td>NaN</td>\n",
       "    </tr>\n",
       "    <tr>\n",
       "      <th>1</th>\n",
       "      <td>Gachibowli, Hyderabad - 500 032 India</td>\n",
       "      <td>NaN</td>\n",
       "      <td>NaN</td>\n",
       "      <td>NaN</td>\n",
       "      <td>NaN</td>\n",
       "      <td>NaN</td>\n",
       "      <td>NaN</td>\n",
       "      <td>NaN</td>\n",
       "      <td>NaN</td>\n",
       "      <td>NaN</td>\n",
       "      <td>NaN</td>\n",
       "      <td>NaN</td>\n",
       "      <td>NaN</td>\n",
       "      <td>NaN</td>\n",
       "      <td>NaN</td>\n",
       "      <td>NaN</td>\n",
       "      <td>NaN</td>\n",
       "      <td>NaN</td>\n",
       "      <td>NaN</td>\n",
       "      <td>NaN</td>\n",
       "    </tr>\n",
       "    <tr>\n",
       "      <th>2</th>\n",
       "      <td>NaN</td>\n",
       "      <td>NaN</td>\n",
       "      <td>NaN</td>\n",
       "      <td>NaN</td>\n",
       "      <td>NaN</td>\n",
       "      <td>NaN</td>\n",
       "      <td>NaN</td>\n",
       "      <td>NaN</td>\n",
       "      <td>NaN</td>\n",
       "      <td>NaN</td>\n",
       "      <td>NaN</td>\n",
       "      <td>NaN</td>\n",
       "      <td>NaN</td>\n",
       "      <td>NaN</td>\n",
       "      <td>NaN</td>\n",
       "      <td>NaN</td>\n",
       "      <td>NaN</td>\n",
       "      <td>NaN</td>\n",
       "      <td>NaN</td>\n",
       "      <td>NaN</td>\n",
       "    </tr>\n",
       "    <tr>\n",
       "      <th>3</th>\n",
       "      <td>INDIAN EARTHQUAKES CATALOG</td>\n",
       "      <td>NaN</td>\n",
       "      <td>NaN</td>\n",
       "      <td>NaN</td>\n",
       "      <td>NaN</td>\n",
       "      <td>NaN</td>\n",
       "      <td>NaN</td>\n",
       "      <td>NaN</td>\n",
       "      <td>NaN</td>\n",
       "      <td>NaN</td>\n",
       "      <td>NaN</td>\n",
       "      <td>NaN</td>\n",
       "      <td>NaN</td>\n",
       "      <td>NaN</td>\n",
       "      <td>NaN</td>\n",
       "      <td>NaN</td>\n",
       "      <td>NaN</td>\n",
       "      <td>NaN</td>\n",
       "      <td>NaN</td>\n",
       "      <td>NaN</td>\n",
       "    </tr>\n",
       "    <tr>\n",
       "      <th>4</th>\n",
       "      <td>PERIOD : 2474 BC  -  2015 AD</td>\n",
       "      <td>NaN</td>\n",
       "      <td>NaN</td>\n",
       "      <td>NaN</td>\n",
       "      <td>NaN</td>\n",
       "      <td>NaN</td>\n",
       "      <td>NaN</td>\n",
       "      <td>NaN</td>\n",
       "      <td>NaN</td>\n",
       "      <td>NaN</td>\n",
       "      <td>NaN</td>\n",
       "      <td>NaN</td>\n",
       "      <td>NaN</td>\n",
       "      <td>NaN</td>\n",
       "      <td>NaN</td>\n",
       "      <td>NaN</td>\n",
       "      <td>NaN</td>\n",
       "      <td>NaN</td>\n",
       "      <td>NaN</td>\n",
       "      <td>NaN</td>\n",
       "    </tr>\n",
       "    <tr>\n",
       "      <th>5</th>\n",
       "      <td>NaN</td>\n",
       "      <td>NaN</td>\n",
       "      <td>NaN</td>\n",
       "      <td>NaN</td>\n",
       "      <td>NaN</td>\n",
       "      <td>NaN</td>\n",
       "      <td>NaN</td>\n",
       "      <td>NaN</td>\n",
       "      <td>NaN</td>\n",
       "      <td>NaN</td>\n",
       "      <td>NaN</td>\n",
       "      <td>NaN</td>\n",
       "      <td>NaN</td>\n",
       "      <td>NaN</td>\n",
       "      <td>NaN</td>\n",
       "      <td>NaN</td>\n",
       "      <td>NaN</td>\n",
       "      <td>NaN</td>\n",
       "      <td>NaN</td>\n",
       "      <td>NaN</td>\n",
       "    </tr>\n",
       "    <tr>\n",
       "      <th>6</th>\n",
       "      <td>Total Number of Earthquakes : 52258 (31 Oct 2016)</td>\n",
       "      <td>NaN</td>\n",
       "      <td>NaN</td>\n",
       "      <td>NaN</td>\n",
       "      <td>NaN</td>\n",
       "      <td>NaN</td>\n",
       "      <td>NaN</td>\n",
       "      <td>NaN</td>\n",
       "      <td>NaN</td>\n",
       "      <td>NaN</td>\n",
       "      <td>NaN</td>\n",
       "      <td>NaN</td>\n",
       "      <td>NaN</td>\n",
       "      <td>NaN</td>\n",
       "      <td>NaN</td>\n",
       "      <td>NaN</td>\n",
       "      <td>NaN</td>\n",
       "      <td>NaN</td>\n",
       "      <td>NaN</td>\n",
       "      <td>NaN</td>\n",
       "    </tr>\n",
       "    <tr>\n",
       "      <th>7</th>\n",
       "      <td>NaN</td>\n",
       "      <td>NaN</td>\n",
       "      <td>NaN</td>\n",
       "      <td>NaN</td>\n",
       "      <td>NaN</td>\n",
       "      <td>NaN</td>\n",
       "      <td>NaN</td>\n",
       "      <td>NaN</td>\n",
       "      <td>NaN</td>\n",
       "      <td>NaN</td>\n",
       "      <td>NaN</td>\n",
       "      <td>NaN</td>\n",
       "      <td>NaN</td>\n",
       "      <td>NaN</td>\n",
       "      <td>NaN</td>\n",
       "      <td>NaN</td>\n",
       "      <td>NaN</td>\n",
       "      <td>NaN</td>\n",
       "      <td>NaN</td>\n",
       "      <td>NaN</td>\n",
       "    </tr>\n",
       "    <tr>\n",
       "      <th>8</th>\n",
       "      <td>Sl. No.</td>\n",
       "      <td>YEAR</td>\n",
       "      <td>MONTH</td>\n",
       "      <td>DATE</td>\n",
       "      <td>ORIGIN TIME</td>\n",
       "      <td>NaN</td>\n",
       "      <td>MAGNITUDE</td>\n",
       "      <td>NaN</td>\n",
       "      <td>NaN</td>\n",
       "      <td>NaN</td>\n",
       "      <td>NaN</td>\n",
       "      <td>NaN</td>\n",
       "      <td>LAT (N)</td>\n",
       "      <td>LONG (E)</td>\n",
       "      <td>DEPTH (km)</td>\n",
       "      <td>INTENSITY</td>\n",
       "      <td>NaN</td>\n",
       "      <td>NaN</td>\n",
       "      <td>LOCATION</td>\n",
       "      <td>REFERENCE</td>\n",
       "    </tr>\n",
       "    <tr>\n",
       "      <th>9</th>\n",
       "      <td>NaN</td>\n",
       "      <td>NaN</td>\n",
       "      <td>NaN</td>\n",
       "      <td>NaN</td>\n",
       "      <td>(UTC)</td>\n",
       "      <td>(IST)</td>\n",
       "      <td>Mw</td>\n",
       "      <td>Mw</td>\n",
       "      <td>Mb</td>\n",
       "      <td>Mb</td>\n",
       "      <td>Ms</td>\n",
       "      <td>ML</td>\n",
       "      <td>NaN</td>\n",
       "      <td>NaN</td>\n",
       "      <td>NaN</td>\n",
       "      <td>MM</td>\n",
       "      <td>MMI</td>\n",
       "      <td>MME</td>\n",
       "      <td>NaN</td>\n",
       "      <td>NaN</td>\n",
       "    </tr>\n",
       "  </tbody>\n",
       "</table>\n",
       "</div>"
      ],
      "text/plain": [
       "              Earthquake Engineering Research Centre Unnamed: 1 Unnamed: 2  \\\n",
       "0  International Institute of Information Technology        NaN        NaN   \n",
       "1              Gachibowli, Hyderabad - 500 032 India        NaN        NaN   \n",
       "2                                                NaN        NaN        NaN   \n",
       "3                         INDIAN EARTHQUAKES CATALOG        NaN        NaN   \n",
       "4                       PERIOD : 2474 BC  -  2015 AD        NaN        NaN   \n",
       "5                                                NaN        NaN        NaN   \n",
       "6  Total Number of Earthquakes : 52258 (31 Oct 2016)        NaN        NaN   \n",
       "7                                                NaN        NaN        NaN   \n",
       "8                                            Sl. No.      YEAR      MONTH    \n",
       "9                                                NaN        NaN        NaN   \n",
       "\n",
       "  Unnamed: 3   Unnamed: 4 Unnamed: 5 Unnamed: 6 Unnamed: 7 Unnamed: 8  \\\n",
       "0        NaN          NaN        NaN        NaN        NaN        NaN   \n",
       "1        NaN          NaN        NaN        NaN        NaN        NaN   \n",
       "2        NaN          NaN        NaN        NaN        NaN        NaN   \n",
       "3        NaN          NaN        NaN        NaN        NaN        NaN   \n",
       "4        NaN          NaN        NaN        NaN        NaN        NaN   \n",
       "5        NaN          NaN        NaN        NaN        NaN        NaN   \n",
       "6        NaN          NaN        NaN        NaN        NaN        NaN   \n",
       "7        NaN          NaN        NaN        NaN        NaN        NaN   \n",
       "8       DATE  ORIGIN TIME        NaN  MAGNITUDE        NaN        NaN   \n",
       "9        NaN        (UTC)      (IST)        Mw          Mw         Mb   \n",
       "\n",
       "  Unnamed: 9 Unnamed: 10 Unnamed: 11 Unnamed: 12 Unnamed: 13 Unnamed: 14  \\\n",
       "0        NaN         NaN         NaN         NaN         NaN         NaN   \n",
       "1        NaN         NaN         NaN         NaN         NaN         NaN   \n",
       "2        NaN         NaN         NaN         NaN         NaN         NaN   \n",
       "3        NaN         NaN         NaN         NaN         NaN         NaN   \n",
       "4        NaN         NaN         NaN         NaN         NaN         NaN   \n",
       "5        NaN         NaN         NaN         NaN         NaN         NaN   \n",
       "6        NaN         NaN         NaN         NaN         NaN         NaN   \n",
       "7        NaN         NaN         NaN         NaN         NaN         NaN   \n",
       "8        NaN         NaN         NaN     LAT (N)    LONG (E)  DEPTH (km)   \n",
       "9         Mb          Ms          ML         NaN         NaN         NaN   \n",
       "\n",
       "  Unnamed: 15 Unnamed: 16 Unnamed: 17 Unnamed: 18 Unnamed: 19  \n",
       "0         NaN         NaN         NaN         NaN         NaN  \n",
       "1         NaN         NaN         NaN         NaN         NaN  \n",
       "2         NaN         NaN         NaN         NaN         NaN  \n",
       "3         NaN         NaN         NaN         NaN         NaN  \n",
       "4         NaN         NaN         NaN         NaN         NaN  \n",
       "5         NaN         NaN         NaN         NaN         NaN  \n",
       "6         NaN         NaN         NaN         NaN         NaN  \n",
       "7         NaN         NaN         NaN         NaN         NaN  \n",
       "8   INTENSITY         NaN         NaN    LOCATION   REFERENCE  \n",
       "9          MM         MMI         MME         NaN         NaN  "
      ]
     },
     "execution_count": 3,
     "metadata": {},
     "output_type": "execute_result"
    }
   ],
   "source": [
    "data.head(10)"
   ]
  },
  {
   "cell_type": "markdown",
   "metadata": {},
   "source": [
    "**Remove first 8 rows to remove the title of sheet and other additional information that are basically subtitles.**"
   ]
  },
  {
   "cell_type": "code",
   "execution_count": 4,
   "metadata": {},
   "outputs": [],
   "source": [
    "data = data.iloc[8:, :]"
   ]
  },
  {
   "cell_type": "code",
   "execution_count": 5,
   "metadata": {},
   "outputs": [
    {
     "data": {
      "text/html": [
       "<div>\n",
       "<style scoped>\n",
       "    .dataframe tbody tr th:only-of-type {\n",
       "        vertical-align: middle;\n",
       "    }\n",
       "\n",
       "    .dataframe tbody tr th {\n",
       "        vertical-align: top;\n",
       "    }\n",
       "\n",
       "    .dataframe thead th {\n",
       "        text-align: right;\n",
       "    }\n",
       "</style>\n",
       "<table border=\"1\" class=\"dataframe\">\n",
       "  <thead>\n",
       "    <tr style=\"text-align: right;\">\n",
       "      <th></th>\n",
       "      <th>Earthquake Engineering Research Centre</th>\n",
       "      <th>Unnamed: 1</th>\n",
       "      <th>Unnamed: 2</th>\n",
       "      <th>Unnamed: 3</th>\n",
       "      <th>Unnamed: 4</th>\n",
       "      <th>Unnamed: 5</th>\n",
       "      <th>Unnamed: 6</th>\n",
       "      <th>Unnamed: 7</th>\n",
       "      <th>Unnamed: 8</th>\n",
       "      <th>Unnamed: 9</th>\n",
       "      <th>Unnamed: 10</th>\n",
       "      <th>Unnamed: 11</th>\n",
       "      <th>Unnamed: 12</th>\n",
       "      <th>Unnamed: 13</th>\n",
       "      <th>Unnamed: 14</th>\n",
       "      <th>Unnamed: 15</th>\n",
       "      <th>Unnamed: 16</th>\n",
       "      <th>Unnamed: 17</th>\n",
       "      <th>Unnamed: 18</th>\n",
       "      <th>Unnamed: 19</th>\n",
       "    </tr>\n",
       "  </thead>\n",
       "  <tbody>\n",
       "    <tr>\n",
       "      <th>8</th>\n",
       "      <td>Sl. No.</td>\n",
       "      <td>YEAR</td>\n",
       "      <td>MONTH</td>\n",
       "      <td>DATE</td>\n",
       "      <td>ORIGIN TIME</td>\n",
       "      <td>NaN</td>\n",
       "      <td>MAGNITUDE</td>\n",
       "      <td>NaN</td>\n",
       "      <td>NaN</td>\n",
       "      <td>NaN</td>\n",
       "      <td>NaN</td>\n",
       "      <td>NaN</td>\n",
       "      <td>LAT (N)</td>\n",
       "      <td>LONG (E)</td>\n",
       "      <td>DEPTH (km)</td>\n",
       "      <td>INTENSITY</td>\n",
       "      <td>NaN</td>\n",
       "      <td>NaN</td>\n",
       "      <td>LOCATION</td>\n",
       "      <td>REFERENCE</td>\n",
       "    </tr>\n",
       "    <tr>\n",
       "      <th>9</th>\n",
       "      <td>NaN</td>\n",
       "      <td>NaN</td>\n",
       "      <td>NaN</td>\n",
       "      <td>NaN</td>\n",
       "      <td>(UTC)</td>\n",
       "      <td>(IST)</td>\n",
       "      <td>Mw</td>\n",
       "      <td>Mw</td>\n",
       "      <td>Mb</td>\n",
       "      <td>Mb</td>\n",
       "      <td>Ms</td>\n",
       "      <td>ML</td>\n",
       "      <td>NaN</td>\n",
       "      <td>NaN</td>\n",
       "      <td>NaN</td>\n",
       "      <td>MM</td>\n",
       "      <td>MMI</td>\n",
       "      <td>MME</td>\n",
       "      <td>NaN</td>\n",
       "      <td>NaN</td>\n",
       "    </tr>\n",
       "    <tr>\n",
       "      <th>10</th>\n",
       "      <td>1</td>\n",
       "      <td>-2474</td>\n",
       "      <td>0</td>\n",
       "      <td>0</td>\n",
       "      <td>NaN</td>\n",
       "      <td>NaN</td>\n",
       "      <td>7.5</td>\n",
       "      <td>7.5</td>\n",
       "      <td>NaN</td>\n",
       "      <td>6.969203</td>\n",
       "      <td>8.784588</td>\n",
       "      <td>7.427072</td>\n",
       "      <td>71</td>\n",
       "      <td>24</td>\n",
       "      <td>0</td>\n",
       "      <td>NaN</td>\n",
       "      <td>NaN</td>\n",
       "      <td>NaN</td>\n",
       "      <td>NaN</td>\n",
       "      <td>Dr STGR</td>\n",
       "    </tr>\n",
       "    <tr>\n",
       "      <th>11</th>\n",
       "      <td>2</td>\n",
       "      <td>-325</td>\n",
       "      <td>0</td>\n",
       "      <td>0</td>\n",
       "      <td>NaN</td>\n",
       "      <td>NaN</td>\n",
       "      <td>7.5</td>\n",
       "      <td>7.5</td>\n",
       "      <td>NaN</td>\n",
       "      <td>6.969203</td>\n",
       "      <td>8.784588</td>\n",
       "      <td>7.427072</td>\n",
       "      <td>71</td>\n",
       "      <td>24</td>\n",
       "      <td>0</td>\n",
       "      <td>NaN</td>\n",
       "      <td>NaN</td>\n",
       "      <td>NaN</td>\n",
       "      <td>NaN</td>\n",
       "      <td>Dr STGR</td>\n",
       "    </tr>\n",
       "    <tr>\n",
       "      <th>12</th>\n",
       "      <td>3</td>\n",
       "      <td>25</td>\n",
       "      <td>0</td>\n",
       "      <td>0</td>\n",
       "      <td>NaN</td>\n",
       "      <td>NaN</td>\n",
       "      <td>7.5</td>\n",
       "      <td>7.5</td>\n",
       "      <td>NaN</td>\n",
       "      <td>6.969203</td>\n",
       "      <td>8.784588</td>\n",
       "      <td>7.427072</td>\n",
       "      <td>72.9</td>\n",
       "      <td>33.72</td>\n",
       "      <td>0</td>\n",
       "      <td>NaN</td>\n",
       "      <td>NaN</td>\n",
       "      <td>NaN</td>\n",
       "      <td>NaN</td>\n",
       "      <td>Dr STGR</td>\n",
       "    </tr>\n",
       "    <tr>\n",
       "      <th>13</th>\n",
       "      <td>4</td>\n",
       "      <td>26</td>\n",
       "      <td>5</td>\n",
       "      <td>10</td>\n",
       "      <td>08.19.10.0</td>\n",
       "      <td>NaN</td>\n",
       "      <td>6.1397</td>\n",
       "      <td>6.1397</td>\n",
       "      <td>5.737047</td>\n",
       "      <td>5.737047</td>\n",
       "      <td>6.402277</td>\n",
       "      <td>5.999685</td>\n",
       "      <td>17.3</td>\n",
       "      <td>80.1</td>\n",
       "      <td>NaN</td>\n",
       "      <td>NaN</td>\n",
       "      <td>NaN</td>\n",
       "      <td>NaN</td>\n",
       "      <td>NaN</td>\n",
       "      <td>NEIC</td>\n",
       "    </tr>\n",
       "    <tr>\n",
       "      <th>14</th>\n",
       "      <td>5</td>\n",
       "      <td>26</td>\n",
       "      <td>5</td>\n",
       "      <td>10</td>\n",
       "      <td>08.19.10.0</td>\n",
       "      <td>NaN</td>\n",
       "      <td>6.1397</td>\n",
       "      <td>6.1397</td>\n",
       "      <td>5.737047</td>\n",
       "      <td>5.737047</td>\n",
       "      <td>6.402277</td>\n",
       "      <td>5.999685</td>\n",
       "      <td>26</td>\n",
       "      <td>97</td>\n",
       "      <td>80</td>\n",
       "      <td>NaN</td>\n",
       "      <td>NaN</td>\n",
       "      <td>NaN</td>\n",
       "      <td>Myanmar</td>\n",
       "      <td>G-R</td>\n",
       "    </tr>\n",
       "    <tr>\n",
       "      <th>15</th>\n",
       "      <td>6</td>\n",
       "      <td>50</td>\n",
       "      <td>0</td>\n",
       "      <td>0</td>\n",
       "      <td>NaN</td>\n",
       "      <td>NaN</td>\n",
       "      <td>7</td>\n",
       "      <td>7</td>\n",
       "      <td>NaN</td>\n",
       "      <td>6.516304</td>\n",
       "      <td>7.908932</td>\n",
       "      <td>6.902413</td>\n",
       "      <td>69.5</td>\n",
       "      <td>37.1</td>\n",
       "      <td>0</td>\n",
       "      <td>NaN</td>\n",
       "      <td>NaN</td>\n",
       "      <td>NaN</td>\n",
       "      <td>NaN</td>\n",
       "      <td>Dr STGR</td>\n",
       "    </tr>\n",
       "    <tr>\n",
       "      <th>16</th>\n",
       "      <td>7</td>\n",
       "      <td>110</td>\n",
       "      <td>0</td>\n",
       "      <td>0</td>\n",
       "      <td>NaN</td>\n",
       "      <td>NaN</td>\n",
       "      <td>6.5</td>\n",
       "      <td>6.5</td>\n",
       "      <td>NaN</td>\n",
       "      <td>6.063406</td>\n",
       "      <td>7.033275</td>\n",
       "      <td>6.377754</td>\n",
       "      <td>76.47</td>\n",
       "      <td>18.1</td>\n",
       "      <td>0</td>\n",
       "      <td>NaN</td>\n",
       "      <td>NaN</td>\n",
       "      <td>NaN</td>\n",
       "      <td>NaN</td>\n",
       "      <td>Dr STGR</td>\n",
       "    </tr>\n",
       "    <tr>\n",
       "      <th>17</th>\n",
       "      <td>8</td>\n",
       "      <td>250</td>\n",
       "      <td>0</td>\n",
       "      <td>0</td>\n",
       "      <td>NaN</td>\n",
       "      <td>NaN</td>\n",
       "      <td>8.5</td>\n",
       "      <td>8.5</td>\n",
       "      <td>NaN</td>\n",
       "      <td>7.875</td>\n",
       "      <td>10.535902</td>\n",
       "      <td>8.47639</td>\n",
       "      <td>74.5</td>\n",
       "      <td>34.6</td>\n",
       "      <td>0</td>\n",
       "      <td>NaN</td>\n",
       "      <td>NaN</td>\n",
       "      <td>NaN</td>\n",
       "      <td>NaN</td>\n",
       "      <td>Dr STGR</td>\n",
       "    </tr>\n",
       "  </tbody>\n",
       "</table>\n",
       "</div>"
      ],
      "text/plain": [
       "   Earthquake Engineering Research Centre Unnamed: 1 Unnamed: 2 Unnamed: 3  \\\n",
       "8                                 Sl. No.      YEAR      MONTH        DATE   \n",
       "9                                     NaN        NaN        NaN        NaN   \n",
       "10                                      1      -2474          0          0   \n",
       "11                                      2       -325          0          0   \n",
       "12                                      3         25          0          0   \n",
       "13                                      4         26          5         10   \n",
       "14                                      5         26          5         10   \n",
       "15                                      6         50          0          0   \n",
       "16                                      7        110          0          0   \n",
       "17                                      8        250          0          0   \n",
       "\n",
       "     Unnamed: 4 Unnamed: 5 Unnamed: 6 Unnamed: 7 Unnamed: 8 Unnamed: 9  \\\n",
       "8   ORIGIN TIME        NaN  MAGNITUDE        NaN        NaN        NaN   \n",
       "9         (UTC)      (IST)        Mw          Mw         Mb         Mb   \n",
       "10          NaN        NaN        7.5        7.5        NaN   6.969203   \n",
       "11          NaN        NaN        7.5        7.5        NaN   6.969203   \n",
       "12          NaN        NaN        7.5        7.5        NaN   6.969203   \n",
       "13   08.19.10.0        NaN     6.1397     6.1397   5.737047   5.737047   \n",
       "14   08.19.10.0        NaN     6.1397     6.1397   5.737047   5.737047   \n",
       "15          NaN        NaN          7          7        NaN   6.516304   \n",
       "16          NaN        NaN        6.5        6.5        NaN   6.063406   \n",
       "17          NaN        NaN        8.5        8.5        NaN      7.875   \n",
       "\n",
       "   Unnamed: 10 Unnamed: 11 Unnamed: 12 Unnamed: 13 Unnamed: 14 Unnamed: 15  \\\n",
       "8          NaN         NaN     LAT (N)    LONG (E)  DEPTH (km)   INTENSITY   \n",
       "9           Ms          ML         NaN         NaN         NaN          MM   \n",
       "10    8.784588    7.427072          71          24           0         NaN   \n",
       "11    8.784588    7.427072          71          24           0         NaN   \n",
       "12    8.784588    7.427072        72.9       33.72           0         NaN   \n",
       "13    6.402277    5.999685        17.3        80.1         NaN         NaN   \n",
       "14    6.402277    5.999685          26          97          80         NaN   \n",
       "15    7.908932    6.902413        69.5        37.1           0         NaN   \n",
       "16    7.033275    6.377754       76.47        18.1           0         NaN   \n",
       "17   10.535902     8.47639        74.5        34.6           0         NaN   \n",
       "\n",
       "   Unnamed: 16 Unnamed: 17 Unnamed: 18 Unnamed: 19  \n",
       "8          NaN         NaN    LOCATION   REFERENCE  \n",
       "9          MMI         MME         NaN         NaN  \n",
       "10         NaN         NaN         NaN     Dr STGR  \n",
       "11         NaN         NaN         NaN     Dr STGR  \n",
       "12         NaN         NaN         NaN     Dr STGR  \n",
       "13         NaN         NaN         NaN        NEIC  \n",
       "14         NaN         NaN     Myanmar         G-R  \n",
       "15         NaN         NaN         NaN     Dr STGR  \n",
       "16         NaN         NaN         NaN     Dr STGR  \n",
       "17         NaN         NaN         NaN     Dr STGR  "
      ]
     },
     "execution_count": 5,
     "metadata": {},
     "output_type": "execute_result"
    }
   ],
   "source": [
    "data.head(10)"
   ]
  },
  {
   "cell_type": "markdown",
   "metadata": {},
   "source": [
    "## Renaming the columns...\n",
    "\n",
    "Rename the columns (i.e., to merge two rows that consists of column names). Below is the table for column names."
   ]
  },
  {
   "cell_type": "code",
   "execution_count": 6,
   "metadata": {},
   "outputs": [],
   "source": [
    "# Derive column names from first two rows.\n",
    "# construct list of column names.\n",
    "lst_colnames = []; dict_ctr = {}\n",
    "for val1, val2 in zip(data.iloc[0, :].to_dict().values(), data.iloc[1, :].to_dict().values()):\n",
    "    # check if 2nd row entry is NaN, if not then check for corresponding 1st row entry. \n",
    "    #If not Nan add both else add 2nd row entry to last entry made from 1st row.\n",
    "    if pd.notna(val2):\n",
    "        if pd.notna(val1):\n",
    "            # keeping counter of every col-names\n",
    "            dict_ctr[val1.strip() + \"-\" + val2.strip()] = 0\n",
    "            lst_colnames.append(val1.strip() + \"-\" + val2.strip())\n",
    "        else:\n",
    "            #check if names we're adding are same.\n",
    "            to_be_added = (lst_colnames[-1].split(\"-\")[0]).strip() + \"-\" + val2.strip()\n",
    "            if to_be_added not in lst_colnames:\n",
    "                # keeping counter of every col-names\n",
    "                dict_ctr[to_be_added] = 0\n",
    "                lst_colnames.append(to_be_added)\n",
    "            else:\n",
    "                dict_ctr[to_be_added] += 1\n",
    "                lst_colnames.append(to_be_added + str(dict_ctr[to_be_added]))\n",
    "    else:\n",
    "        lst_colnames.append(val1.strip())"
   ]
  },
  {
   "cell_type": "code",
   "execution_count": 7,
   "metadata": {},
   "outputs": [],
   "source": [
    "# Redefine column names of data frame\n",
    "data = data.iloc[2:,:]\n",
    "data.columns = lst_colnames"
   ]
  },
  {
   "cell_type": "code",
   "execution_count": 8,
   "metadata": {},
   "outputs": [
    {
     "data": {
      "text/plain": [
       "['Sl. No.',\n",
       " 'YEAR',\n",
       " 'MONTH',\n",
       " 'DATE',\n",
       " 'ORIGIN TIME-(UTC)',\n",
       " 'ORIGIN TIME-(IST)',\n",
       " 'MAGNITUDE-Mw',\n",
       " 'MAGNITUDE-Mw1',\n",
       " 'MAGNITUDE-Mb',\n",
       " 'MAGNITUDE-Mb1',\n",
       " 'MAGNITUDE-Ms',\n",
       " 'MAGNITUDE-ML',\n",
       " 'LAT (N)',\n",
       " 'LONG (E)',\n",
       " 'DEPTH (km)',\n",
       " 'INTENSITY-MM',\n",
       " 'INTENSITY-MMI',\n",
       " 'INTENSITY-MME',\n",
       " 'LOCATION',\n",
       " 'REFERENCE']"
      ]
     },
     "execution_count": 8,
     "metadata": {},
     "output_type": "execute_result"
    }
   ],
   "source": [
    "lst_colnames"
   ]
  },
  {
   "cell_type": "code",
   "execution_count": 9,
   "metadata": {},
   "outputs": [
    {
     "data": {
      "text/html": [
       "<div>\n",
       "<style scoped>\n",
       "    .dataframe tbody tr th:only-of-type {\n",
       "        vertical-align: middle;\n",
       "    }\n",
       "\n",
       "    .dataframe tbody tr th {\n",
       "        vertical-align: top;\n",
       "    }\n",
       "\n",
       "    .dataframe thead th {\n",
       "        text-align: right;\n",
       "    }\n",
       "</style>\n",
       "<table border=\"1\" class=\"dataframe\">\n",
       "  <thead>\n",
       "    <tr style=\"text-align: right;\">\n",
       "      <th></th>\n",
       "      <th>Sl. No.</th>\n",
       "      <th>YEAR</th>\n",
       "      <th>MONTH</th>\n",
       "      <th>DATE</th>\n",
       "      <th>ORIGIN TIME-(UTC)</th>\n",
       "      <th>ORIGIN TIME-(IST)</th>\n",
       "      <th>MAGNITUDE-Mw</th>\n",
       "      <th>MAGNITUDE-Mw1</th>\n",
       "      <th>MAGNITUDE-Mb</th>\n",
       "      <th>MAGNITUDE-Mb1</th>\n",
       "      <th>MAGNITUDE-Ms</th>\n",
       "      <th>MAGNITUDE-ML</th>\n",
       "      <th>LAT (N)</th>\n",
       "      <th>LONG (E)</th>\n",
       "      <th>DEPTH (km)</th>\n",
       "      <th>INTENSITY-MM</th>\n",
       "      <th>INTENSITY-MMI</th>\n",
       "      <th>INTENSITY-MME</th>\n",
       "      <th>LOCATION</th>\n",
       "      <th>REFERENCE</th>\n",
       "    </tr>\n",
       "  </thead>\n",
       "  <tbody>\n",
       "    <tr>\n",
       "      <th>10</th>\n",
       "      <td>1</td>\n",
       "      <td>-2474</td>\n",
       "      <td>0</td>\n",
       "      <td>0</td>\n",
       "      <td>NaN</td>\n",
       "      <td>NaN</td>\n",
       "      <td>7.5</td>\n",
       "      <td>7.5</td>\n",
       "      <td>NaN</td>\n",
       "      <td>6.969203</td>\n",
       "      <td>8.784588</td>\n",
       "      <td>7.427072</td>\n",
       "      <td>71</td>\n",
       "      <td>24</td>\n",
       "      <td>0</td>\n",
       "      <td>NaN</td>\n",
       "      <td>NaN</td>\n",
       "      <td>NaN</td>\n",
       "      <td>NaN</td>\n",
       "      <td>Dr STGR</td>\n",
       "    </tr>\n",
       "    <tr>\n",
       "      <th>11</th>\n",
       "      <td>2</td>\n",
       "      <td>-325</td>\n",
       "      <td>0</td>\n",
       "      <td>0</td>\n",
       "      <td>NaN</td>\n",
       "      <td>NaN</td>\n",
       "      <td>7.5</td>\n",
       "      <td>7.5</td>\n",
       "      <td>NaN</td>\n",
       "      <td>6.969203</td>\n",
       "      <td>8.784588</td>\n",
       "      <td>7.427072</td>\n",
       "      <td>71</td>\n",
       "      <td>24</td>\n",
       "      <td>0</td>\n",
       "      <td>NaN</td>\n",
       "      <td>NaN</td>\n",
       "      <td>NaN</td>\n",
       "      <td>NaN</td>\n",
       "      <td>Dr STGR</td>\n",
       "    </tr>\n",
       "    <tr>\n",
       "      <th>12</th>\n",
       "      <td>3</td>\n",
       "      <td>25</td>\n",
       "      <td>0</td>\n",
       "      <td>0</td>\n",
       "      <td>NaN</td>\n",
       "      <td>NaN</td>\n",
       "      <td>7.5</td>\n",
       "      <td>7.5</td>\n",
       "      <td>NaN</td>\n",
       "      <td>6.969203</td>\n",
       "      <td>8.784588</td>\n",
       "      <td>7.427072</td>\n",
       "      <td>72.9</td>\n",
       "      <td>33.72</td>\n",
       "      <td>0</td>\n",
       "      <td>NaN</td>\n",
       "      <td>NaN</td>\n",
       "      <td>NaN</td>\n",
       "      <td>NaN</td>\n",
       "      <td>Dr STGR</td>\n",
       "    </tr>\n",
       "    <tr>\n",
       "      <th>13</th>\n",
       "      <td>4</td>\n",
       "      <td>26</td>\n",
       "      <td>5</td>\n",
       "      <td>10</td>\n",
       "      <td>08.19.10.0</td>\n",
       "      <td>NaN</td>\n",
       "      <td>6.1397</td>\n",
       "      <td>6.1397</td>\n",
       "      <td>5.737047</td>\n",
       "      <td>5.737047</td>\n",
       "      <td>6.402277</td>\n",
       "      <td>5.999685</td>\n",
       "      <td>17.3</td>\n",
       "      <td>80.1</td>\n",
       "      <td>NaN</td>\n",
       "      <td>NaN</td>\n",
       "      <td>NaN</td>\n",
       "      <td>NaN</td>\n",
       "      <td>NaN</td>\n",
       "      <td>NEIC</td>\n",
       "    </tr>\n",
       "    <tr>\n",
       "      <th>14</th>\n",
       "      <td>5</td>\n",
       "      <td>26</td>\n",
       "      <td>5</td>\n",
       "      <td>10</td>\n",
       "      <td>08.19.10.0</td>\n",
       "      <td>NaN</td>\n",
       "      <td>6.1397</td>\n",
       "      <td>6.1397</td>\n",
       "      <td>5.737047</td>\n",
       "      <td>5.737047</td>\n",
       "      <td>6.402277</td>\n",
       "      <td>5.999685</td>\n",
       "      <td>26</td>\n",
       "      <td>97</td>\n",
       "      <td>80</td>\n",
       "      <td>NaN</td>\n",
       "      <td>NaN</td>\n",
       "      <td>NaN</td>\n",
       "      <td>Myanmar</td>\n",
       "      <td>G-R</td>\n",
       "    </tr>\n",
       "    <tr>\n",
       "      <th>15</th>\n",
       "      <td>6</td>\n",
       "      <td>50</td>\n",
       "      <td>0</td>\n",
       "      <td>0</td>\n",
       "      <td>NaN</td>\n",
       "      <td>NaN</td>\n",
       "      <td>7</td>\n",
       "      <td>7</td>\n",
       "      <td>NaN</td>\n",
       "      <td>6.516304</td>\n",
       "      <td>7.908932</td>\n",
       "      <td>6.902413</td>\n",
       "      <td>69.5</td>\n",
       "      <td>37.1</td>\n",
       "      <td>0</td>\n",
       "      <td>NaN</td>\n",
       "      <td>NaN</td>\n",
       "      <td>NaN</td>\n",
       "      <td>NaN</td>\n",
       "      <td>Dr STGR</td>\n",
       "    </tr>\n",
       "    <tr>\n",
       "      <th>16</th>\n",
       "      <td>7</td>\n",
       "      <td>110</td>\n",
       "      <td>0</td>\n",
       "      <td>0</td>\n",
       "      <td>NaN</td>\n",
       "      <td>NaN</td>\n",
       "      <td>6.5</td>\n",
       "      <td>6.5</td>\n",
       "      <td>NaN</td>\n",
       "      <td>6.063406</td>\n",
       "      <td>7.033275</td>\n",
       "      <td>6.377754</td>\n",
       "      <td>76.47</td>\n",
       "      <td>18.1</td>\n",
       "      <td>0</td>\n",
       "      <td>NaN</td>\n",
       "      <td>NaN</td>\n",
       "      <td>NaN</td>\n",
       "      <td>NaN</td>\n",
       "      <td>Dr STGR</td>\n",
       "    </tr>\n",
       "  </tbody>\n",
       "</table>\n",
       "</div>"
      ],
      "text/plain": [
       "   Sl. No.   YEAR MONTH DATE ORIGIN TIME-(UTC) ORIGIN TIME-(IST) MAGNITUDE-Mw  \\\n",
       "10       1  -2474     0    0               NaN               NaN          7.5   \n",
       "11       2   -325     0    0               NaN               NaN          7.5   \n",
       "12       3     25     0    0               NaN               NaN          7.5   \n",
       "13       4     26     5   10        08.19.10.0               NaN       6.1397   \n",
       "14       5     26     5   10        08.19.10.0               NaN       6.1397   \n",
       "15       6     50     0    0               NaN               NaN            7   \n",
       "16       7    110     0    0               NaN               NaN          6.5   \n",
       "\n",
       "   MAGNITUDE-Mw1 MAGNITUDE-Mb MAGNITUDE-Mb1 MAGNITUDE-Ms MAGNITUDE-ML LAT (N)  \\\n",
       "10           7.5          NaN      6.969203     8.784588     7.427072      71   \n",
       "11           7.5          NaN      6.969203     8.784588     7.427072      71   \n",
       "12           7.5          NaN      6.969203     8.784588     7.427072    72.9   \n",
       "13        6.1397     5.737047      5.737047     6.402277     5.999685    17.3   \n",
       "14        6.1397     5.737047      5.737047     6.402277     5.999685      26   \n",
       "15             7          NaN      6.516304     7.908932     6.902413    69.5   \n",
       "16           6.5          NaN      6.063406     7.033275     6.377754   76.47   \n",
       "\n",
       "   LONG (E) DEPTH (km) INTENSITY-MM INTENSITY-MMI INTENSITY-MME LOCATION  \\\n",
       "10       24          0          NaN           NaN           NaN      NaN   \n",
       "11       24          0          NaN           NaN           NaN      NaN   \n",
       "12    33.72          0          NaN           NaN           NaN      NaN   \n",
       "13     80.1        NaN          NaN           NaN           NaN      NaN   \n",
       "14       97         80          NaN           NaN           NaN  Myanmar   \n",
       "15     37.1          0          NaN           NaN           NaN      NaN   \n",
       "16     18.1          0          NaN           NaN           NaN      NaN   \n",
       "\n",
       "   REFERENCE  \n",
       "10   Dr STGR  \n",
       "11   Dr STGR  \n",
       "12   Dr STGR  \n",
       "13      NEIC  \n",
       "14       G-R  \n",
       "15   Dr STGR  \n",
       "16   Dr STGR  "
      ]
     },
     "execution_count": 9,
     "metadata": {},
     "output_type": "execute_result"
    }
   ],
   "source": [
    "data.head(7)"
   ]
  },
  {
   "cell_type": "code",
   "execution_count": 10,
   "metadata": {},
   "outputs": [
    {
     "data": {
      "text/html": [
       "<div>\n",
       "<style scoped>\n",
       "    .dataframe tbody tr th:only-of-type {\n",
       "        vertical-align: middle;\n",
       "    }\n",
       "\n",
       "    .dataframe tbody tr th {\n",
       "        vertical-align: top;\n",
       "    }\n",
       "\n",
       "    .dataframe thead th {\n",
       "        text-align: right;\n",
       "    }\n",
       "</style>\n",
       "<table border=\"1\" class=\"dataframe\">\n",
       "  <thead>\n",
       "    <tr style=\"text-align: right;\">\n",
       "      <th></th>\n",
       "      <th>Sl. No.</th>\n",
       "      <th>YEAR</th>\n",
       "      <th>MONTH</th>\n",
       "      <th>DATE</th>\n",
       "      <th>ORIGIN TIME-(UTC)</th>\n",
       "      <th>ORIGIN TIME-(IST)</th>\n",
       "      <th>MAGNITUDE-Mw</th>\n",
       "      <th>MAGNITUDE-Mw1</th>\n",
       "      <th>MAGNITUDE-Mb</th>\n",
       "      <th>MAGNITUDE-Mb1</th>\n",
       "      <th>MAGNITUDE-Ms</th>\n",
       "      <th>MAGNITUDE-ML</th>\n",
       "      <th>LAT (N)</th>\n",
       "      <th>LONG (E)</th>\n",
       "      <th>DEPTH (km)</th>\n",
       "      <th>INTENSITY-MM</th>\n",
       "      <th>INTENSITY-MMI</th>\n",
       "      <th>INTENSITY-MME</th>\n",
       "      <th>LOCATION</th>\n",
       "      <th>REFERENCE</th>\n",
       "    </tr>\n",
       "  </thead>\n",
       "  <tbody>\n",
       "    <tr>\n",
       "      <th>count</th>\n",
       "      <td>52989</td>\n",
       "      <td>52989</td>\n",
       "      <td>52971</td>\n",
       "      <td>52932</td>\n",
       "      <td>21186</td>\n",
       "      <td>426</td>\n",
       "      <td>40935.0</td>\n",
       "      <td>50482.0</td>\n",
       "      <td>12283.0</td>\n",
       "      <td>50497.000000</td>\n",
       "      <td>52820.000000</td>\n",
       "      <td>52820.000000</td>\n",
       "      <td>52989</td>\n",
       "      <td>52989.0</td>\n",
       "      <td>50811.0</td>\n",
       "      <td>41</td>\n",
       "      <td>0</td>\n",
       "      <td>0</td>\n",
       "      <td>9374</td>\n",
       "      <td>51407</td>\n",
       "    </tr>\n",
       "    <tr>\n",
       "      <th>unique</th>\n",
       "      <td>52974</td>\n",
       "      <td>261</td>\n",
       "      <td>14</td>\n",
       "      <td>32</td>\n",
       "      <td>18093</td>\n",
       "      <td>425</td>\n",
       "      <td>221.0</td>\n",
       "      <td>234.0</td>\n",
       "      <td>159.0</td>\n",
       "      <td>237.000000</td>\n",
       "      <td>235.000000</td>\n",
       "      <td>235.000000</td>\n",
       "      <td>10790</td>\n",
       "      <td>10939.0</td>\n",
       "      <td>2359.0</td>\n",
       "      <td>17</td>\n",
       "      <td>0</td>\n",
       "      <td>0</td>\n",
       "      <td>1637</td>\n",
       "      <td>38</td>\n",
       "    </tr>\n",
       "    <tr>\n",
       "      <th>top</th>\n",
       "      <td>1</td>\n",
       "      <td>2005</td>\n",
       "      <td>1</td>\n",
       "      <td>27</td>\n",
       "      <td>..</td>\n",
       "      <td>07:25:33</td>\n",
       "      <td>4.3</td>\n",
       "      <td>4.3</td>\n",
       "      <td>4.5</td>\n",
       "      <td>4.070652</td>\n",
       "      <td>3.180385</td>\n",
       "      <td>4.069255</td>\n",
       "      <td>71</td>\n",
       "      <td>36.5</td>\n",
       "      <td>0.0</td>\n",
       "      <td>V</td>\n",
       "      <td>NaN</td>\n",
       "      <td>NaN</td>\n",
       "      <td>Myanmar</td>\n",
       "      <td>Dr STGR</td>\n",
       "    </tr>\n",
       "    <tr>\n",
       "      <th>freq</th>\n",
       "      <td>2</td>\n",
       "      <td>7241</td>\n",
       "      <td>6363</td>\n",
       "      <td>2635</td>\n",
       "      <td>8</td>\n",
       "      <td>2</td>\n",
       "      <td>5251.0</td>\n",
       "      <td>5251.0</td>\n",
       "      <td>926.0</td>\n",
       "      <td>5251.000000</td>\n",
       "      <td>5251.000000</td>\n",
       "      <td>5251.000000</td>\n",
       "      <td>132</td>\n",
       "      <td>248.0</td>\n",
       "      <td>10879.0</td>\n",
       "      <td>11</td>\n",
       "      <td>NaN</td>\n",
       "      <td>NaN</td>\n",
       "      <td>1574</td>\n",
       "      <td>30468</td>\n",
       "    </tr>\n",
       "  </tbody>\n",
       "</table>\n",
       "</div>"
      ],
      "text/plain": [
       "        Sl. No.   YEAR  MONTH   DATE ORIGIN TIME-(UTC) ORIGIN TIME-(IST)  \\\n",
       "count     52989  52989  52971  52932             21186               426   \n",
       "unique    52974    261     14     32             18093               425   \n",
       "top           1   2005      1     27                ..          07:25:33   \n",
       "freq          2   7241   6363   2635                 8                 2   \n",
       "\n",
       "        MAGNITUDE-Mw  MAGNITUDE-Mw1  MAGNITUDE-Mb  MAGNITUDE-Mb1  \\\n",
       "count        40935.0        50482.0       12283.0   50497.000000   \n",
       "unique         221.0          234.0         159.0     237.000000   \n",
       "top              4.3            4.3           4.5       4.070652   \n",
       "freq          5251.0         5251.0         926.0    5251.000000   \n",
       "\n",
       "        MAGNITUDE-Ms  MAGNITUDE-ML  LAT (N)  LONG (E)  DEPTH (km)  \\\n",
       "count   52820.000000  52820.000000    52989   52989.0     50811.0   \n",
       "unique    235.000000    235.000000    10790   10939.0      2359.0   \n",
       "top         3.180385      4.069255       71      36.5         0.0   \n",
       "freq     5251.000000   5251.000000      132     248.0     10879.0   \n",
       "\n",
       "       INTENSITY-MM INTENSITY-MMI INTENSITY-MME LOCATION REFERENCE  \n",
       "count            41             0             0     9374     51407  \n",
       "unique           17             0             0     1637        38  \n",
       "top               V           NaN           NaN  Myanmar   Dr STGR  \n",
       "freq             11           NaN           NaN     1574     30468  "
      ]
     },
     "execution_count": 10,
     "metadata": {},
     "output_type": "execute_result"
    }
   ],
   "source": [
    "# See description of data\n",
    "data.describe(include = 'all')"
   ]
  },
  {
   "cell_type": "markdown",
   "metadata": {},
   "source": [
    "## Deciding which columns to drop and which to keep - DATA cleaning"
   ]
  },
  {
   "cell_type": "code",
   "execution_count": 11,
   "metadata": {},
   "outputs": [
    {
     "name": "stdout",
     "output_type": "stream",
     "text": [
      "INTENSITY-MME        52989\n",
      "INTENSITY-MMI        52989\n",
      "INTENSITY-MM         52948\n",
      "ORIGIN TIME-(IST)    52563\n",
      "LOCATION             43615\n",
      "MAGNITUDE-Mb         40706\n",
      "ORIGIN TIME-(UTC)    31803\n",
      "MAGNITUDE-Mw         12054\n",
      "MAGNITUDE-Mw1         2507\n",
      "MAGNITUDE-Mb1         2492\n",
      "DEPTH (km)            2178\n",
      "REFERENCE             1582\n",
      "MAGNITUDE-Ms           169\n",
      "MAGNITUDE-ML           169\n",
      "DATE                    57\n",
      "MONTH                   18\n",
      "LONG (E)                 0\n",
      "LAT (N)                  0\n",
      "YEAR                     0\n",
      "Sl. No.                  0\n",
      "dtype: int64\n"
     ]
    }
   ],
   "source": [
    "# Check number of NaN values in the data frame\n",
    "print(data.isnull().sum().sort_values(ascending = False)) # or print(data.isna().sum())"
   ]
  },
  {
   "cell_type": "code",
   "execution_count": 12,
   "metadata": {
    "scrolled": true
   },
   "outputs": [
    {
     "name": "stdout",
     "output_type": "stream",
     "text": [
      "Shape of Data:  (52989, 20)\n"
     ]
    }
   ],
   "source": [
    "# Shape of the data frame\n",
    "print(\"Shape of Data: \", data.shape)"
   ]
  },
  {
   "cell_type": "code",
   "execution_count": 13,
   "metadata": {},
   "outputs": [
    {
     "name": "stdout",
     "output_type": "stream",
     "text": [
      "Percentage of NaN in the data frame: 32.916\n"
     ]
    }
   ],
   "source": [
    "# Percentage of Null values in the data frame.\n",
    "print(\"Percentage of NaN in the data frame: %.3f\"%(data.isnull().sum().sum()*100 / np.product(data.shape)))"
   ]
  },
  {
   "cell_type": "markdown",
   "metadata": {},
   "source": [
    "__Since 33% is a considerable amount, removing the irrelevant columns would help for predicting *Mw*.__\n",
    "\n",
    "1. __Since, no. of data samples is 52989 which is comparable or significantly more in no. to the no. of missing values in the columns upto ORIGIN-TIME-(UTC), we'll drop these columns.__\n",
    "2. __Further, LAT and LONG will compensate for LOCATION attribute. And Sl. No. is of no relevance.__"
   ]
  },
  {
   "cell_type": "code",
   "execution_count": 14,
   "metadata": {},
   "outputs": [
    {
     "data": {
      "text/plain": [
       "10       True\n",
       "11       True\n",
       "12       True\n",
       "13       True\n",
       "14       True\n",
       "         ... \n",
       "52994    True\n",
       "52995    True\n",
       "52996    True\n",
       "52997    True\n",
       "52998    True\n",
       "Length: 40935, dtype: bool"
      ]
     },
     "execution_count": 14,
     "metadata": {},
     "output_type": "execute_result"
    }
   ],
   "source": [
    "# Check whether these two Mw columns are same (after removing NaN from Mw and the corresponding rows in Mw1).\n",
    "(data[data[\"MAGNITUDE-Mw\"].notnull()])[\"MAGNITUDE-Mw\"] == (data[data[\"MAGNITUDE-Mw\"].notnull()])[\"MAGNITUDE-Mw1\"]"
   ]
  },
  {
   "cell_type": "code",
   "execution_count": 15,
   "metadata": {},
   "outputs": [
    {
     "data": {
      "text/plain": [
       "True"
      ]
     },
     "execution_count": 15,
     "metadata": {},
     "output_type": "execute_result"
    }
   ],
   "source": [
    "# Efficient way to check.\n",
    "(data[data[\"MAGNITUDE-Mw\"].notnull()])[\"MAGNITUDE-Mw\"].equals((data[data[\"MAGNITUDE-Mw\"].notnull()])[\"MAGNITUDE-Mw1\"])"
   ]
  },
  {
   "cell_type": "markdown",
   "metadata": {},
   "source": [
    "1. __So it's evident from the above fact to drop the Mw and keep the Mw1.__\n",
    "2. __Plus we'll drop all other MAGNITUDE columns as we need to predict Mw1.__\n"
   ]
  },
  {
   "cell_type": "markdown",
   "metadata": {},
   "source": [
    "1. Since shape of the dataset $= 52989 \\times 20$ and keeping an eye on percentage of `NaN` cells in the dataframe (i.e., $32. 916 \\%$) we couldn’t remove all the rows or cols with NaN cells as that could cause whole data wipe out and hence a significant loss. So what we can do, we can drop those columns thath contains a significant amount of `NaN` such as:<br>\n",
    "`INTENSITY-MME`, `INTENSITY-MMI`, `INTENSITY-MM`, `ORIGIN TIME-(IST)`, `LOCATION`, `MAGNITUDE-Mb`, and `ORIGIN TIME-(UTC)` whose `NaN` counts are over $50\\%$.\n",
    "2. Now coming to the columns whose existence doesn’t at all matters or have any relevance are the ones that provide extra information about each data point. Since our motive is to predict the $M_w$ (i.e., the magnitude of earthquake), `Sl. No.` , and `REFERENCE` have no role in helping out for prediction.\n",
    "3. Further, columns like `MAGNITUDE-Mb1` , `MAGNITUDE-Ms` , and `MAGNITUDE-ML` are related to magnitude and these features are obtained only when earthquake occurs. So it doesn’t make sense to use these if we were to predict earthquake in future or at some location.\n",
    "4. Now, `MAGNITUDE-Mw` and `MAGNITUDE-Mw1` are the same columns. The only aspect at where they differ is the number of `NaN` cells. If we remove the rows from DataFrame corresponding to `NaN` cells of `MAGNITUDE-Mw` and check for equality of both columns then we got `True` flag. So, it’s better to keep the `MAGNITUDE-Mw1` column for our prediction purpose and drop the other one."
   ]
  },
  {
   "cell_type": "code",
   "execution_count": 16,
   "metadata": {},
   "outputs": [],
   "source": [
    "#Drop columns...\n",
    "# Remove two columns name is 'C' and 'D'\n",
    "#df.drop(['C', 'D'], axis = 1)\n",
    "# Remove three columns as index base\n",
    "#df.drop(df.columns[[0, 4, 2]], axis = 1, inplace = True)\n",
    "# df.drop(columns =['C', 'D'])\n",
    "# Remove all columns between column index 1 to 3\n",
    "#df.drop(df.iloc[:, 1:3], inplace = True, axis = 1)\n",
    "# Remove all columns between column name 'B' to 'D'\n",
    "#df.drop(df.ix[:, 'B':'D'].columns, axis = 1)\n",
    "# Remove all columns between column name 'B' to 'D'\n",
    "#df.drop(df.loc[:, 'B':'D'].columns, axis = 1)\n",
    "label = data['MAGNITUDE-Mw1']\n",
    "data.drop(columns = ['INTENSITY-MME', \n",
    "                     'INTENSITY-MMI', \n",
    "                     'INTENSITY-MM', \n",
    "                     'ORIGIN TIME-(IST)', \n",
    "                     'LOCATION', \n",
    "                     'MAGNITUDE-Mb', \n",
    "                     'ORIGIN TIME-(UTC)', \n",
    "                     'MAGNITUDE-Mw', \n",
    "                     'MAGNITUDE-Mw1', \n",
    "                     'MAGNITUDE-Mb1', \n",
    "                     'REFERENCE', \n",
    "                     'MAGNITUDE-Ms', \n",
    "                     'MAGNITUDE-ML', \n",
    "                     'Sl. No.'], inplace = True)\n",
    "# inplace Job is to transform at address location and return None, rather returning a transformed copy of the same."
   ]
  },
  {
   "cell_type": "code",
   "execution_count": 17,
   "metadata": {},
   "outputs": [
    {
     "data": {
      "text/html": [
       "<div>\n",
       "<style scoped>\n",
       "    .dataframe tbody tr th:only-of-type {\n",
       "        vertical-align: middle;\n",
       "    }\n",
       "\n",
       "    .dataframe tbody tr th {\n",
       "        vertical-align: top;\n",
       "    }\n",
       "\n",
       "    .dataframe thead th {\n",
       "        text-align: right;\n",
       "    }\n",
       "</style>\n",
       "<table border=\"1\" class=\"dataframe\">\n",
       "  <thead>\n",
       "    <tr style=\"text-align: right;\">\n",
       "      <th></th>\n",
       "      <th>YEAR</th>\n",
       "      <th>MONTH</th>\n",
       "      <th>DATE</th>\n",
       "      <th>LAT (N)</th>\n",
       "      <th>LONG (E)</th>\n",
       "      <th>DEPTH (km)</th>\n",
       "    </tr>\n",
       "  </thead>\n",
       "  <tbody>\n",
       "    <tr>\n",
       "      <th>10</th>\n",
       "      <td>-2474</td>\n",
       "      <td>0</td>\n",
       "      <td>0</td>\n",
       "      <td>71</td>\n",
       "      <td>24</td>\n",
       "      <td>0</td>\n",
       "    </tr>\n",
       "    <tr>\n",
       "      <th>11</th>\n",
       "      <td>-325</td>\n",
       "      <td>0</td>\n",
       "      <td>0</td>\n",
       "      <td>71</td>\n",
       "      <td>24</td>\n",
       "      <td>0</td>\n",
       "    </tr>\n",
       "    <tr>\n",
       "      <th>12</th>\n",
       "      <td>25</td>\n",
       "      <td>0</td>\n",
       "      <td>0</td>\n",
       "      <td>72.9</td>\n",
       "      <td>33.72</td>\n",
       "      <td>0</td>\n",
       "    </tr>\n",
       "    <tr>\n",
       "      <th>13</th>\n",
       "      <td>26</td>\n",
       "      <td>5</td>\n",
       "      <td>10</td>\n",
       "      <td>17.3</td>\n",
       "      <td>80.1</td>\n",
       "      <td>NaN</td>\n",
       "    </tr>\n",
       "    <tr>\n",
       "      <th>14</th>\n",
       "      <td>26</td>\n",
       "      <td>5</td>\n",
       "      <td>10</td>\n",
       "      <td>26</td>\n",
       "      <td>97</td>\n",
       "      <td>80</td>\n",
       "    </tr>\n",
       "    <tr>\n",
       "      <th>...</th>\n",
       "      <td>...</td>\n",
       "      <td>...</td>\n",
       "      <td>...</td>\n",
       "      <td>...</td>\n",
       "      <td>...</td>\n",
       "      <td>...</td>\n",
       "    </tr>\n",
       "    <tr>\n",
       "      <th>52994</th>\n",
       "      <td>2019</td>\n",
       "      <td>7</td>\n",
       "      <td>28</td>\n",
       "      <td>32.8°N</td>\n",
       "      <td>78.4°E</td>\n",
       "      <td>10</td>\n",
       "    </tr>\n",
       "    <tr>\n",
       "      <th>52995</th>\n",
       "      <td>2019</td>\n",
       "      <td>7</td>\n",
       "      <td>28</td>\n",
       "      <td>25.5°N</td>\n",
       "      <td>90.4°E</td>\n",
       "      <td>70</td>\n",
       "    </tr>\n",
       "    <tr>\n",
       "      <th>52996</th>\n",
       "      <td>2019</td>\n",
       "      <td>7</td>\n",
       "      <td>28</td>\n",
       "      <td>23.2°N</td>\n",
       "      <td>86.5°E</td>\n",
       "      <td>22</td>\n",
       "    </tr>\n",
       "    <tr>\n",
       "      <th>52997</th>\n",
       "      <td>2019</td>\n",
       "      <td>7</td>\n",
       "      <td>29</td>\n",
       "      <td>32.8°N</td>\n",
       "      <td>76.4°E</td>\n",
       "      <td>20</td>\n",
       "    </tr>\n",
       "    <tr>\n",
       "      <th>52998</th>\n",
       "      <td>2019</td>\n",
       "      <td>7</td>\n",
       "      <td>31</td>\n",
       "      <td>20.0°N</td>\n",
       "      <td>72.8°E</td>\n",
       "      <td>10</td>\n",
       "    </tr>\n",
       "  </tbody>\n",
       "</table>\n",
       "<p>52989 rows × 6 columns</p>\n",
       "</div>"
      ],
      "text/plain": [
       "        YEAR MONTH DATE LAT (N) LONG (E) DEPTH (km)\n",
       "10     -2474     0    0      71       24          0\n",
       "11      -325     0    0      71       24          0\n",
       "12        25     0    0    72.9    33.72          0\n",
       "13        26     5   10    17.3     80.1        NaN\n",
       "14        26     5   10      26       97         80\n",
       "...      ...   ...  ...     ...      ...        ...\n",
       "52994   2019     7   28  32.8°N   78.4°E         10\n",
       "52995   2019     7   28  25.5°N   90.4°E         70\n",
       "52996   2019     7   28  23.2°N   86.5°E         22\n",
       "52997   2019     7   29  32.8°N   76.4°E         20\n",
       "52998   2019     7   31  20.0°N   72.8°E         10\n",
       "\n",
       "[52989 rows x 6 columns]"
      ]
     },
     "execution_count": 17,
     "metadata": {},
     "output_type": "execute_result"
    }
   ],
   "source": [
    "data"
   ]
  },
  {
   "cell_type": "markdown",
   "metadata": {},
   "source": [
    "## Transforming the DATE, MONTH and YEAR column."
   ]
  },
  {
   "cell_type": "markdown",
   "metadata": {},
   "source": [
    "__Let's transform the Year, Date, and Month columns.__\n",
    "\n",
    "*Method of Transformation...*\n",
    "1. Remove __First Two Rows__ as it contains negative year.\n",
    "2. Replace '0' in MONTH and DATE column with `NaN`, since there are no zero months and date.\n",
    "3. Since the values in year column are in chronological order, we devised a method of imputaton for both date and month.\n",
    "    1. Put $Month=1$ if no months have been registered for the same year, else put $value=+1$ to the the value from preceding month.\n",
    "    2. If preceding $month = 12$ for the same year, keep the current month as 12 and make one step increment in date. Follow the same procedure for date column too.\n",
    "    3. If $date = 31$ and $month = 12$, then change change the year itself with one step increment putting the date as `01/01/incremented year`.\n",
    "    4. While, if $date = 31$ and $month < 12$, then the date would be `01/current_month + 1/current_year`."
   ]
  },
  {
   "cell_type": "code",
   "execution_count": 18,
   "metadata": {},
   "outputs": [],
   "source": [
    "# Replace zero in both Month and Date column with nan values.\n",
    "#Method 1: data = (data.replace({'MONTH':{0: np.nan, \" \":np.nan, \" \":np.nan}, \n",
    "#                      'DATE':{0: np.nan, \" \":np.nan, \" \":np.nan}})).iloc[2:, :]\n",
    "# Method 2: data[['MONTH', 'DATE']] = data[['MONTH', 'DATE']].replace({0: np.nan})\n",
    "# Method 3: data.replace(to_replace = [0, \"\", \" \"], value = np.nan, inplace=True)\n",
    "\n",
    "# Convert 0, one-unit length string or empty string to NaN.\n",
    "data = (data.replace({'MONTH':{0: np.nan, \" \":np.nan, \" \":np.nan}, \n",
    "                      'DATE':{0: np.nan, \" \":np.nan, \" \":np.nan}})).iloc[2:, :]# Remove first two rows..."
   ]
  },
  {
   "cell_type": "code",
   "execution_count": 19,
   "metadata": {},
   "outputs": [
    {
     "data": {
      "text/html": [
       "<div>\n",
       "<style scoped>\n",
       "    .dataframe tbody tr th:only-of-type {\n",
       "        vertical-align: middle;\n",
       "    }\n",
       "\n",
       "    .dataframe tbody tr th {\n",
       "        vertical-align: top;\n",
       "    }\n",
       "\n",
       "    .dataframe thead th {\n",
       "        text-align: right;\n",
       "    }\n",
       "</style>\n",
       "<table border=\"1\" class=\"dataframe\">\n",
       "  <thead>\n",
       "    <tr style=\"text-align: right;\">\n",
       "      <th></th>\n",
       "      <th>YEAR</th>\n",
       "      <th>MONTH</th>\n",
       "      <th>DATE</th>\n",
       "      <th>LAT (N)</th>\n",
       "      <th>LONG (E)</th>\n",
       "      <th>DEPTH (km)</th>\n",
       "    </tr>\n",
       "  </thead>\n",
       "  <tbody>\n",
       "    <tr>\n",
       "      <th>12</th>\n",
       "      <td>25</td>\n",
       "      <td>NaN</td>\n",
       "      <td>NaN</td>\n",
       "      <td>72.9</td>\n",
       "      <td>33.72</td>\n",
       "      <td>0</td>\n",
       "    </tr>\n",
       "    <tr>\n",
       "      <th>13</th>\n",
       "      <td>26</td>\n",
       "      <td>5.0</td>\n",
       "      <td>10.0</td>\n",
       "      <td>17.3</td>\n",
       "      <td>80.1</td>\n",
       "      <td>NaN</td>\n",
       "    </tr>\n",
       "    <tr>\n",
       "      <th>14</th>\n",
       "      <td>26</td>\n",
       "      <td>5.0</td>\n",
       "      <td>10.0</td>\n",
       "      <td>26</td>\n",
       "      <td>97</td>\n",
       "      <td>80</td>\n",
       "    </tr>\n",
       "    <tr>\n",
       "      <th>15</th>\n",
       "      <td>50</td>\n",
       "      <td>NaN</td>\n",
       "      <td>NaN</td>\n",
       "      <td>69.5</td>\n",
       "      <td>37.1</td>\n",
       "      <td>0</td>\n",
       "    </tr>\n",
       "    <tr>\n",
       "      <th>16</th>\n",
       "      <td>110</td>\n",
       "      <td>NaN</td>\n",
       "      <td>NaN</td>\n",
       "      <td>76.47</td>\n",
       "      <td>18.1</td>\n",
       "      <td>0</td>\n",
       "    </tr>\n",
       "    <tr>\n",
       "      <th>17</th>\n",
       "      <td>250</td>\n",
       "      <td>NaN</td>\n",
       "      <td>NaN</td>\n",
       "      <td>74.5</td>\n",
       "      <td>34.6</td>\n",
       "      <td>0</td>\n",
       "    </tr>\n",
       "    <tr>\n",
       "      <th>18</th>\n",
       "      <td>260</td>\n",
       "      <td>NaN</td>\n",
       "      <td>NaN</td>\n",
       "      <td>77.2</td>\n",
       "      <td>30.5</td>\n",
       "      <td>0</td>\n",
       "    </tr>\n",
       "    <tr>\n",
       "      <th>19</th>\n",
       "      <td>819</td>\n",
       "      <td>6.0</td>\n",
       "      <td>1.0</td>\n",
       "      <td>65.4</td>\n",
       "      <td>36.4</td>\n",
       "      <td>0</td>\n",
       "    </tr>\n",
       "  </tbody>\n",
       "</table>\n",
       "</div>"
      ],
      "text/plain": [
       "   YEAR  MONTH  DATE LAT (N) LONG (E) DEPTH (km)\n",
       "12   25    NaN   NaN    72.9    33.72          0\n",
       "13   26    5.0  10.0    17.3     80.1        NaN\n",
       "14   26    5.0  10.0      26       97         80\n",
       "15   50    NaN   NaN    69.5     37.1          0\n",
       "16  110    NaN   NaN   76.47     18.1          0\n",
       "17  250    NaN   NaN    74.5     34.6          0\n",
       "18  260    NaN   NaN    77.2     30.5          0\n",
       "19  819    6.0   1.0    65.4     36.4          0"
      ]
     },
     "execution_count": 19,
     "metadata": {},
     "output_type": "execute_result"
    }
   ],
   "source": [
    "data.head(8)"
   ]
  },
  {
   "cell_type": "code",
   "execution_count": 20,
   "metadata": {
    "scrolled": false
   },
   "outputs": [
    {
     "data": {
      "text/html": [
       "<div>\n",
       "<style scoped>\n",
       "    .dataframe tbody tr th:only-of-type {\n",
       "        vertical-align: middle;\n",
       "    }\n",
       "\n",
       "    .dataframe tbody tr th {\n",
       "        vertical-align: top;\n",
       "    }\n",
       "\n",
       "    .dataframe thead th {\n",
       "        text-align: right;\n",
       "    }\n",
       "</style>\n",
       "<table border=\"1\" class=\"dataframe\">\n",
       "  <thead>\n",
       "    <tr style=\"text-align: right;\">\n",
       "      <th></th>\n",
       "      <th>YEAR</th>\n",
       "      <th>MONTH</th>\n",
       "      <th>DATE</th>\n",
       "      <th>LAT (N)</th>\n",
       "      <th>LONG (E)</th>\n",
       "      <th>DEPTH (km)</th>\n",
       "    </tr>\n",
       "  </thead>\n",
       "  <tbody>\n",
       "    <tr>\n",
       "      <th>0</th>\n",
       "      <td>25</td>\n",
       "      <td>NaN</td>\n",
       "      <td>NaN</td>\n",
       "      <td>72.9</td>\n",
       "      <td>33.72</td>\n",
       "      <td>0</td>\n",
       "    </tr>\n",
       "    <tr>\n",
       "      <th>1</th>\n",
       "      <td>26</td>\n",
       "      <td>5.0</td>\n",
       "      <td>10.0</td>\n",
       "      <td>17.3</td>\n",
       "      <td>80.1</td>\n",
       "      <td>NaN</td>\n",
       "    </tr>\n",
       "    <tr>\n",
       "      <th>2</th>\n",
       "      <td>26</td>\n",
       "      <td>5.0</td>\n",
       "      <td>10.0</td>\n",
       "      <td>26</td>\n",
       "      <td>97</td>\n",
       "      <td>80</td>\n",
       "    </tr>\n",
       "    <tr>\n",
       "      <th>3</th>\n",
       "      <td>50</td>\n",
       "      <td>NaN</td>\n",
       "      <td>NaN</td>\n",
       "      <td>69.5</td>\n",
       "      <td>37.1</td>\n",
       "      <td>0</td>\n",
       "    </tr>\n",
       "    <tr>\n",
       "      <th>4</th>\n",
       "      <td>110</td>\n",
       "      <td>NaN</td>\n",
       "      <td>NaN</td>\n",
       "      <td>76.47</td>\n",
       "      <td>18.1</td>\n",
       "      <td>0</td>\n",
       "    </tr>\n",
       "    <tr>\n",
       "      <th>5</th>\n",
       "      <td>250</td>\n",
       "      <td>NaN</td>\n",
       "      <td>NaN</td>\n",
       "      <td>74.5</td>\n",
       "      <td>34.6</td>\n",
       "      <td>0</td>\n",
       "    </tr>\n",
       "    <tr>\n",
       "      <th>6</th>\n",
       "      <td>260</td>\n",
       "      <td>NaN</td>\n",
       "      <td>NaN</td>\n",
       "      <td>77.2</td>\n",
       "      <td>30.5</td>\n",
       "      <td>0</td>\n",
       "    </tr>\n",
       "    <tr>\n",
       "      <th>7</th>\n",
       "      <td>819</td>\n",
       "      <td>6.0</td>\n",
       "      <td>1.0</td>\n",
       "      <td>65.4</td>\n",
       "      <td>36.4</td>\n",
       "      <td>0</td>\n",
       "    </tr>\n",
       "    <tr>\n",
       "      <th>8</th>\n",
       "      <td>825</td>\n",
       "      <td>NaN</td>\n",
       "      <td>NaN</td>\n",
       "      <td>91.8</td>\n",
       "      <td>26.1</td>\n",
       "      <td>0</td>\n",
       "    </tr>\n",
       "    <tr>\n",
       "      <th>9</th>\n",
       "      <td>849</td>\n",
       "      <td>NaN</td>\n",
       "      <td>NaN</td>\n",
       "      <td>62.2</td>\n",
       "      <td>34.3</td>\n",
       "      <td>0</td>\n",
       "    </tr>\n",
       "  </tbody>\n",
       "</table>\n",
       "</div>"
      ],
      "text/plain": [
       "  YEAR  MONTH  DATE LAT (N) LONG (E) DEPTH (km)\n",
       "0   25    NaN   NaN    72.9    33.72          0\n",
       "1   26    5.0  10.0    17.3     80.1        NaN\n",
       "2   26    5.0  10.0      26       97         80\n",
       "3   50    NaN   NaN    69.5     37.1          0\n",
       "4  110    NaN   NaN   76.47     18.1          0\n",
       "5  250    NaN   NaN    74.5     34.6          0\n",
       "6  260    NaN   NaN    77.2     30.5          0\n",
       "7  819    6.0   1.0    65.4     36.4          0\n",
       "8  825    NaN   NaN    91.8     26.1          0\n",
       "9  849    NaN   NaN    62.2     34.3          0"
      ]
     },
     "execution_count": 20,
     "metadata": {},
     "output_type": "execute_result"
    }
   ],
   "source": [
    "#reset the index of the dataframe...\n",
    "data.reset_index(drop = True, inplace = True)\n",
    "data.head(10)"
   ]
  },
  {
   "cell_type": "code",
   "execution_count": 21,
   "metadata": {},
   "outputs": [
    {
     "data": {
      "image/png": "[encoded data removed]",
      "text/plain": [
       "<Figure size 720x576 with 1 Axes>"
      ]
     },
     "metadata": {
      "needs_background": "light"
     },
     "output_type": "display_data"
    },
    {
     "name": "stdout",
     "output_type": "stream",
     "text": [
      "\n",
      "\n",
      "Zooming into the range from 1750 and onwards...\n"
     ]
    },
    {
     "data": {
      "image/png": "[encoded data removed]",
      "text/plain": [
       "<Figure size 720x576 with 1 Axes>"
      ]
     },
     "metadata": {
      "needs_background": "light"
     },
     "output_type": "display_data"
    }
   ],
   "source": [
    "# Plotting Year column to see if it's in Non-decreasing order.\n",
    "plt.figure(figsize = (10,8))\n",
    "plt.plot(np.arange(0, len(data)), data.YEAR, color = 'b', linestyle = '-', linewidth = 2, label = 'Year')\n",
    "plt.ylabel(\"Year\"); plt.xlabel(\"Index\"); plt.title(\"Year values as we go down in DataFrame\")\n",
    "plt.grid(); plt.legend(); plt.show()\n",
    "print(\"\\n\\nZooming into the range from 1750 and onwards...\")\n",
    "plt.figure(figsize = (10,8))\n",
    "plt.plot(np.arange(0, len(data)), data.YEAR, color = 'b', linestyle = '-', linewidth = 2, label = 'Year')\n",
    "plt.ylabel(\"Year\"); plt.xlabel(\"Index\"); plt.ylim(1750, 2050); plt.title(\"Year values from 1750 onwards\")\n",
    "plt.grid(); plt.legend(); plt.show()"
   ]
  },
  {
   "cell_type": "code",
   "execution_count": 22,
   "metadata": {},
   "outputs": [],
   "source": [
    "# Impute the NaN values in Month and Date column...\n",
    "def month_date_imputer(df_mm_dd_yy):\n",
    "    \"\"\"\n",
    "    Takes in month, date and year column and impute the NaN values \n",
    "    in month as well as date col according to the strategy given above.\n",
    "    Output:\n",
    "        Imputed Month & Date Columns\n",
    "    \"\"\"\n",
    "    # iterate through each row and select 'Name' and 'Age' column respectively.\n",
    "    #for index, row in df.iterrows():\n",
    "    #    print (row[\"Name\"], row[\"Age\"])\n",
    "    # iterate through each row and select 'Name' and 'Percentage' column respectively.\n",
    "    #for row in df.itertuples(index = True, name ='Pandas'):\n",
    "    #    print (getattr(row, \"Name\"), getattr(row, \"Percentage\"))\n",
    "    # 0th and 2nd index column respectively.\n",
    "    #for i in range(len(df)) :\n",
    "    #  print(df.iloc[i, 0], df.iloc[i, 2])\n",
    "    if pd.isna(df_mm_dd_yy.iloc[0,:].MONTH):\n",
    "        df_mm_dd_yy.iloc[0,:].MONTH = 1\n",
    "    if pd.isna(df_mm_dd_yy.iloc[0,:].DATE):\n",
    "        df_mm_dd_yy.iloc[0,:].DATE = 1\n",
    "    prev_row = df_mm_dd_yy.iloc[0,:]\n",
    "    # Iterate over the NaN Month values...\n",
    "    for row in (df_mm_dd_yy[df_mm_dd_yy['MONTH'].isnull()]).itertuples():\n",
    "        # current row for the nan month and it's previous row \n",
    "        cur_row, prev_row = df_mm_dd_yy.iloc[row.Index, :], df_mm_dd_yy.iloc[row.Index - 1, :]\n",
    "        # check if year for current idx and prev idx are same.\n",
    "        if cur_row.YEAR == prev_row.YEAR:\n",
    "            if cur_row.MONTH == 12:\n",
    "                df_mm_dd_yy.loc[row.Index, \"MONTH\"] = 12\n",
    "            else:\n",
    "                df_mm_dd_yy.loc[row.Index, \"MONTH\"] = prev_row.MONTH + 1\n",
    "        else:\n",
    "            df_mm_dd_yy.loc[row.Index, \"MONTH\"] = 1\n",
    "    # Iterate over NaN date Values...\n",
    "    for row in (df_mm_dd_yy[df_mm_dd_yy['DATE'].isnull()]).itertuples():\n",
    "        # current row for the nan month and it's previous row \n",
    "        cur_row, prev_row = df_mm_dd_yy.iloc[row.Index, :], df_mm_dd_yy.iloc[row.Index - 1, :]\n",
    "        # check if year for current idx and prev idx are same.\n",
    "        if (cur_row.YEAR == prev_row.YEAR) and (cur_row.MONTH == prev_row.MONTH):\n",
    "            if cur_row.DATE == 31:\n",
    "                if cur_row.MONTH == 12:\n",
    "                    df_mm_dd_yy.loc[row.Index] = np.array([cur_row.YEAR + 1, 1, 1])\n",
    "                else: \n",
    "                    df_mm_dd_yy.loc[row.Index] = np.array([cur_row.YEAR, cur_row.MONTH + 1, 1])\n",
    "            else:\n",
    "                df_mm_dd_yy.loc[row.Index, \"DATE\"] = prev_row.DATE + 1\n",
    "        else:\n",
    "            df_mm_dd_yy.loc[row.Index, \"DATE\"] = 1\n",
    "    return df_mm_dd_yy"
   ]
  },
  {
   "cell_type": "markdown",
   "metadata": {},
   "source": [
    "The following is a (false positive) warning. The potential for false positives is addressed in the docs on indexing, if you'd like to read further. You can safely disable this new warning with the following assignment.\n",
    "https://stackoverflow.com/questions/20625582/how-to-deal-with-settingwithcopywarning-in-pandas"
   ]
  },
  {
   "cell_type": "code",
   "execution_count": 23,
   "metadata": {},
   "outputs": [],
   "source": [
    "pd.options.mode.chained_assignment = None\n",
    "data[[\"YEAR\", \"MONTH\", \"DATE\"]] = month_date_imputer(data[[\"YEAR\", \"MONTH\", \"DATE\"]])"
   ]
  },
  {
   "cell_type": "code",
   "execution_count": 24,
   "metadata": {},
   "outputs": [
    {
     "data": {
      "text/plain": [
       "YEAR             0\n",
       "MONTH            0\n",
       "DATE             0\n",
       "LAT (N)          0\n",
       "LONG (E)         0\n",
       "DEPTH (km)    2178\n",
       "dtype: int64"
      ]
     },
     "execution_count": 24,
     "metadata": {},
     "output_type": "execute_result"
    }
   ],
   "source": [
    "# Check for Number of Null Values in all columns...\n",
    "data.isnull().sum()"
   ]
  },
  {
   "cell_type": "markdown",
   "metadata": {},
   "source": [
    "## Type conversion for Year, Month and Date\n",
    "\n",
    "Since **YEAR** is of `object`, and **MONTH** and **DATE** are of `float64` type, we typecast them all to `Int32` format."
   ]
  },
  {
   "cell_type": "code",
   "execution_count": 25,
   "metadata": {
    "scrolled": true
   },
   "outputs": [
    {
     "data": {
      "text/plain": [
       "YEAR           object\n",
       "MONTH         float64\n",
       "DATE          float64\n",
       "LAT (N)        object\n",
       "LONG (E)       object\n",
       "DEPTH (km)     object\n",
       "dtype: object"
      ]
     },
     "execution_count": 25,
     "metadata": {},
     "output_type": "execute_result"
    }
   ],
   "source": [
    "data.dtypes"
   ]
  },
  {
   "cell_type": "code",
   "execution_count": 26,
   "metadata": {},
   "outputs": [],
   "source": [
    "# Convert dtypes of YEAR, MONTH, and DATE to int32.\n",
    "# Convert dtype of LAT and LONG to float32 after removing the special characters.\n",
    "\n",
    "#data[[\"YEAR\", \"MONTH\", \"DATE\"]] = data[[\"YEAR\", \"MONTH\", \"DATE\"]].apply(pd.to_numeric) \n",
    "# Assign a numeric dtype which may be float or int\n",
    "data = data.astype({\"YEAR\":\"int32\", \"MONTH\":\"int32\", \"DATE\":\"int32\"}) \n",
    "# allows to convert the dtype according to user"
   ]
  },
  {
   "cell_type": "markdown",
   "metadata": {},
   "source": [
    "## Cleaning Latitude and Longitude Column\n",
    "\n",
    "All entries in **LAT (N)** and **LONG (E)** columns are `string` type (i.e., `object` type) out of which most of them are just plain string of `float` type values while other cantains some special character like **N**, **S**, **E**, **W**, **-**, **◦** ($= degree$), and **\" \"** (i.e, space character) which are pre-processed to obtain `float32` values."
   ]
  },
  {
   "cell_type": "code",
   "execution_count": 27,
   "metadata": {},
   "outputs": [],
   "source": [
    "#Transform LAT and LONG columns.\n",
    "def to_numeric(x):\n",
    "    \"\"\"\n",
    "    convert the given string to numeric while removing the unwanted characters.\n",
    "    \"\"\"\n",
    "    try:\n",
    "        return np.float32(x)# return after removing the white spaces.\n",
    "    except:\n",
    "        return np.float32(\"\".join([k for k in x if k not in ['N', 'S', chr(32), 'W', 'E', chr(176), chr(65392)]]))\n",
    "        "
   ]
  },
  {
   "cell_type": "code",
   "execution_count": 28,
   "metadata": {},
   "outputs": [],
   "source": [
    "#Tranforming both Lat and Long.\n",
    "data['LAT (N)'] = data['LAT (N)'].apply(to_numeric)\n",
    "data['LONG (E)'] = data['LONG (E)'].apply(to_numeric)"
   ]
  },
  {
   "cell_type": "code",
   "execution_count": 29,
   "metadata": {},
   "outputs": [
    {
     "data": {
      "text/html": [
       "<div>\n",
       "<style scoped>\n",
       "    .dataframe tbody tr th:only-of-type {\n",
       "        vertical-align: middle;\n",
       "    }\n",
       "\n",
       "    .dataframe tbody tr th {\n",
       "        vertical-align: top;\n",
       "    }\n",
       "\n",
       "    .dataframe thead th {\n",
       "        text-align: right;\n",
       "    }\n",
       "</style>\n",
       "<table border=\"1\" class=\"dataframe\">\n",
       "  <thead>\n",
       "    <tr style=\"text-align: right;\">\n",
       "      <th></th>\n",
       "      <th>YEAR</th>\n",
       "      <th>MONTH</th>\n",
       "      <th>DATE</th>\n",
       "      <th>LAT (N)</th>\n",
       "      <th>LONG (E)</th>\n",
       "      <th>DEPTH (km)</th>\n",
       "    </tr>\n",
       "  </thead>\n",
       "  <tbody>\n",
       "    <tr>\n",
       "      <th>0</th>\n",
       "      <td>25</td>\n",
       "      <td>1</td>\n",
       "      <td>1</td>\n",
       "      <td>72.900002</td>\n",
       "      <td>33.720001</td>\n",
       "      <td>0</td>\n",
       "    </tr>\n",
       "    <tr>\n",
       "      <th>1</th>\n",
       "      <td>26</td>\n",
       "      <td>5</td>\n",
       "      <td>10</td>\n",
       "      <td>17.299999</td>\n",
       "      <td>80.099998</td>\n",
       "      <td>NaN</td>\n",
       "    </tr>\n",
       "    <tr>\n",
       "      <th>2</th>\n",
       "      <td>26</td>\n",
       "      <td>5</td>\n",
       "      <td>10</td>\n",
       "      <td>26.000000</td>\n",
       "      <td>97.000000</td>\n",
       "      <td>80</td>\n",
       "    </tr>\n",
       "    <tr>\n",
       "      <th>3</th>\n",
       "      <td>50</td>\n",
       "      <td>1</td>\n",
       "      <td>1</td>\n",
       "      <td>69.500000</td>\n",
       "      <td>37.099998</td>\n",
       "      <td>0</td>\n",
       "    </tr>\n",
       "    <tr>\n",
       "      <th>4</th>\n",
       "      <td>110</td>\n",
       "      <td>1</td>\n",
       "      <td>1</td>\n",
       "      <td>76.470001</td>\n",
       "      <td>18.100000</td>\n",
       "      <td>0</td>\n",
       "    </tr>\n",
       "  </tbody>\n",
       "</table>\n",
       "</div>"
      ],
      "text/plain": [
       "   YEAR  MONTH  DATE    LAT (N)   LONG (E) DEPTH (km)\n",
       "0    25      1     1  72.900002  33.720001          0\n",
       "1    26      5    10  17.299999  80.099998        NaN\n",
       "2    26      5    10  26.000000  97.000000         80\n",
       "3    50      1     1  69.500000  37.099998          0\n",
       "4   110      1     1  76.470001  18.100000          0"
      ]
     },
     "execution_count": 29,
     "metadata": {},
     "output_type": "execute_result"
    }
   ],
   "source": [
    "data.head()"
   ]
  },
  {
   "cell_type": "markdown",
   "metadata": {},
   "source": [
    "## Cleaning and Imputing Depth Column\n",
    "\n",
    "__Overview:__ Converted \"0\", and \" \" to `NaN` and then used `KNN`, `MICE` and it’s different versions, and `DataWig` to impute **Depth** Column.\n",
    "* With `KNNImputer()` and `IterativeImputer()` class from `scikit-learn` package we implemented $4$ different versions of imputaion with $3$ versions of `IterativeImputer()`.\n",
    "* `KNNImputer()` imputes new sample by finding the samples in the training set “closest” (in terms of “Euclidean” distance) to it and averages these nearby points to fill in the value.\n",
    "* While the `IterativeImputer()` refers to a process where each feature is modeled as a function of the other features, e.g. a regression problem where missing values are predicted.\n",
    "    * Each feature is imputed sequentially, one after the other that allows to use the prior imputed values as a part of a model in predicting subsequent features.\n",
    "    * Since this process is repeated multiple times it is iterative in nature, allowing ever improved estimates of missing values to be calculated as missing values across all features are estimated.\n",
    "    * This approach may be generally referred to as fully conditional specification (**FCS**) or multivariate imputation by chained equations (**MICE**).\n",
    "* Different regression algorithms can be used to estimate the missing values for each feature, and hence we used 3 different regressors, namely:\n",
    "    1. `BayesianRidge()`, the default one.\n",
    "    2. `ExtraTreesRegressor(n_estimators=50, random_state=0)`.\n",
    "    3. `RandomForestRegressor(n_estimators=50, random_state=0)`.\n",
    "* `DataWig()` is a neural-network model that predict the imputed values using other features. This method proved to be inefficient for our dataframe and got earlystopped at $5^{th}$ epoch due to divergence."
   ]
  },
  {
   "cell_type": "code",
   "execution_count": 30,
   "metadata": {},
   "outputs": [],
   "source": [
    "# Time to transform the Depth col.\n",
    "# Since a lot of entries are zero, we need to convert them to Nan and impute it using certain methods.\n",
    "data = data.replace({\"DEPTH (km)\":{0:np.nan, \" \":np.nan, \"\":np.nan}})"
   ]
  },
  {
   "cell_type": "code",
   "execution_count": 31,
   "metadata": {},
   "outputs": [
    {
     "data": {
      "text/plain": [
       "YEAR              0\n",
       "MONTH             0\n",
       "DATE              0\n",
       "LAT (N)           0\n",
       "LONG (E)          0\n",
       "DEPTH (km)    13055\n",
       "dtype: int64"
      ]
     },
     "execution_count": 31,
     "metadata": {},
     "output_type": "execute_result"
    }
   ],
   "source": [
    "data.isna().sum() #or data.isnull().sum()"
   ]
  },
  {
   "cell_type": "markdown",
   "metadata": {},
   "source": [
    "### Imputation with KNN, MICE (from `fancyimpute`), DataWig, and IterativeImputer (of Scikit-Learn) with 3 diff estimators."
   ]
  },
  {
   "cell_type": "markdown",
   "metadata": {},
   "source": [
    "#### KNN"
   ]
  },
  {
   "cell_type": "code",
   "execution_count": 35,
   "metadata": {},
   "outputs": [],
   "source": [
    "# We'll try above 3 imputation methods\n",
    "\n",
    "# define KNNimputer\n",
    "imputer = KNNImputer(n_neighbors=5, weights='uniform', metric='nan_euclidean')\n",
    "data_transformed_KNN = imputer.fit_transform(data)"
   ]
  },
  {
   "cell_type": "code",
   "execution_count": 36,
   "metadata": {},
   "outputs": [],
   "source": [
    "data_transformed_KNN = pd.DataFrame(data_transformed_KNN, columns = ['YEAR', 'MONTH', 'DATE', 'LAT (N)', 'LONG (E)', 'DEPTH (km)'])"
   ]
  },
  {
   "cell_type": "code",
   "execution_count": 37,
   "metadata": {},
   "outputs": [
    {
     "data": {
      "text/html": [
       "<div>\n",
       "<style scoped>\n",
       "    .dataframe tbody tr th:only-of-type {\n",
       "        vertical-align: middle;\n",
       "    }\n",
       "\n",
       "    .dataframe tbody tr th {\n",
       "        vertical-align: top;\n",
       "    }\n",
       "\n",
       "    .dataframe thead th {\n",
       "        text-align: right;\n",
       "    }\n",
       "</style>\n",
       "<table border=\"1\" class=\"dataframe\">\n",
       "  <thead>\n",
       "    <tr style=\"text-align: right;\">\n",
       "      <th></th>\n",
       "      <th>YEAR</th>\n",
       "      <th>MONTH</th>\n",
       "      <th>DATE</th>\n",
       "      <th>LAT (N)</th>\n",
       "      <th>LONG (E)</th>\n",
       "      <th>DEPTH (km)</th>\n",
       "    </tr>\n",
       "  </thead>\n",
       "  <tbody>\n",
       "    <tr>\n",
       "      <th>0</th>\n",
       "      <td>25.0</td>\n",
       "      <td>1.0</td>\n",
       "      <td>1.0</td>\n",
       "      <td>72.900002</td>\n",
       "      <td>33.720001</td>\n",
       "      <td>70.0</td>\n",
       "    </tr>\n",
       "    <tr>\n",
       "      <th>1</th>\n",
       "      <td>26.0</td>\n",
       "      <td>5.0</td>\n",
       "      <td>10.0</td>\n",
       "      <td>17.299999</td>\n",
       "      <td>80.099998</td>\n",
       "      <td>70.0</td>\n",
       "    </tr>\n",
       "    <tr>\n",
       "      <th>2</th>\n",
       "      <td>26.0</td>\n",
       "      <td>5.0</td>\n",
       "      <td>10.0</td>\n",
       "      <td>26.000000</td>\n",
       "      <td>97.000000</td>\n",
       "      <td>80.0</td>\n",
       "    </tr>\n",
       "    <tr>\n",
       "      <th>3</th>\n",
       "      <td>50.0</td>\n",
       "      <td>1.0</td>\n",
       "      <td>1.0</td>\n",
       "      <td>69.500000</td>\n",
       "      <td>37.099998</td>\n",
       "      <td>70.0</td>\n",
       "    </tr>\n",
       "    <tr>\n",
       "      <th>4</th>\n",
       "      <td>110.0</td>\n",
       "      <td>1.0</td>\n",
       "      <td>1.0</td>\n",
       "      <td>76.470001</td>\n",
       "      <td>18.100000</td>\n",
       "      <td>70.0</td>\n",
       "    </tr>\n",
       "    <tr>\n",
       "      <th>5</th>\n",
       "      <td>250.0</td>\n",
       "      <td>1.0</td>\n",
       "      <td>1.0</td>\n",
       "      <td>74.500000</td>\n",
       "      <td>34.599998</td>\n",
       "      <td>70.0</td>\n",
       "    </tr>\n",
       "    <tr>\n",
       "      <th>6</th>\n",
       "      <td>260.0</td>\n",
       "      <td>1.0</td>\n",
       "      <td>1.0</td>\n",
       "      <td>77.199997</td>\n",
       "      <td>30.500000</td>\n",
       "      <td>70.0</td>\n",
       "    </tr>\n",
       "    <tr>\n",
       "      <th>7</th>\n",
       "      <td>819.0</td>\n",
       "      <td>6.0</td>\n",
       "      <td>1.0</td>\n",
       "      <td>65.400002</td>\n",
       "      <td>36.400002</td>\n",
       "      <td>70.0</td>\n",
       "    </tr>\n",
       "    <tr>\n",
       "      <th>8</th>\n",
       "      <td>825.0</td>\n",
       "      <td>1.0</td>\n",
       "      <td>1.0</td>\n",
       "      <td>91.800003</td>\n",
       "      <td>26.100000</td>\n",
       "      <td>70.0</td>\n",
       "    </tr>\n",
       "  </tbody>\n",
       "</table>\n",
       "</div>"
      ],
      "text/plain": [
       "    YEAR  MONTH  DATE    LAT (N)   LONG (E)  DEPTH (km)\n",
       "0   25.0    1.0   1.0  72.900002  33.720001        70.0\n",
       "1   26.0    5.0  10.0  17.299999  80.099998        70.0\n",
       "2   26.0    5.0  10.0  26.000000  97.000000        80.0\n",
       "3   50.0    1.0   1.0  69.500000  37.099998        70.0\n",
       "4  110.0    1.0   1.0  76.470001  18.100000        70.0\n",
       "5  250.0    1.0   1.0  74.500000  34.599998        70.0\n",
       "6  260.0    1.0   1.0  77.199997  30.500000        70.0\n",
       "7  819.0    6.0   1.0  65.400002  36.400002        70.0\n",
       "8  825.0    1.0   1.0  91.800003  26.100000        70.0"
      ]
     },
     "execution_count": 37,
     "metadata": {},
     "output_type": "execute_result"
    }
   ],
   "source": [
    "data_transformed_KNN.head(9)"
   ]
  },
  {
   "cell_type": "code",
   "execution_count": 38,
   "metadata": {},
   "outputs": [
    {
     "data": {
      "image/png": "[encoded data removed]",
      "text/plain": [
       "<Figure size 864x576 with 1 Axes>"
      ]
     },
     "metadata": {
      "needs_background": "light"
     },
     "output_type": "display_data"
    }
   ],
   "source": [
    "plt.figure(figsize = (12,8))\n",
    "# reset the default parameters by calling set_theme():\n",
    "sns.set_style(\"darkgrid\", {\"axes.facecolor\": \".9\"})#sns.axes_style(\"darkgrid\")\n",
    "sns.set_context(\"paper\")#\"talk\", \"poster\"\n",
    "sns.scatterplot(x = np.arange(len(data_transformed_KNN)), y = data_transformed_KNN['DEPTH (km)'], linewidth = 0)\n",
    "plt.title(\"Imputation using KNN\"); plt.show()"
   ]
  },
  {
   "cell_type": "markdown",
   "metadata": {},
   "source": [
    "#### DataWig"
   ]
  },
  {
   "cell_type": "code",
   "execution_count": 36,
   "metadata": {},
   "outputs": [],
   "source": [
    "# Split the data into two for training and testing.\n",
    "df_train, df_test = data[data[\"DEPTH (km)\"].notnull()], data[data[\"DEPTH (km)\"].isnull()]\n",
    "#datawig.utils.random_split(data)"
   ]
  },
  {
   "cell_type": "code",
   "execution_count": 45,
   "metadata": {},
   "outputs": [
    {
     "data": {
      "text/html": [
       "<div>\n",
       "<style scoped>\n",
       "    .dataframe tbody tr th:only-of-type {\n",
       "        vertical-align: middle;\n",
       "    }\n",
       "\n",
       "    .dataframe tbody tr th {\n",
       "        vertical-align: top;\n",
       "    }\n",
       "\n",
       "    .dataframe thead th {\n",
       "        text-align: right;\n",
       "    }\n",
       "</style>\n",
       "<table border=\"1\" class=\"dataframe\">\n",
       "  <thead>\n",
       "    <tr style=\"text-align: right;\">\n",
       "      <th></th>\n",
       "      <th>YEAR</th>\n",
       "      <th>MONTH</th>\n",
       "      <th>DATE</th>\n",
       "      <th>LAT (N)</th>\n",
       "      <th>LONG (E)</th>\n",
       "      <th>DEPTH (km)</th>\n",
       "    </tr>\n",
       "  </thead>\n",
       "  <tbody>\n",
       "    <tr>\n",
       "      <th>0</th>\n",
       "      <td>25</td>\n",
       "      <td>1</td>\n",
       "      <td>1</td>\n",
       "      <td>72.900002</td>\n",
       "      <td>33.720001</td>\n",
       "      <td>NaN</td>\n",
       "    </tr>\n",
       "    <tr>\n",
       "      <th>1</th>\n",
       "      <td>26</td>\n",
       "      <td>5</td>\n",
       "      <td>10</td>\n",
       "      <td>17.299999</td>\n",
       "      <td>80.099998</td>\n",
       "      <td>NaN</td>\n",
       "    </tr>\n",
       "    <tr>\n",
       "      <th>3</th>\n",
       "      <td>50</td>\n",
       "      <td>1</td>\n",
       "      <td>1</td>\n",
       "      <td>69.500000</td>\n",
       "      <td>37.099998</td>\n",
       "      <td>NaN</td>\n",
       "    </tr>\n",
       "    <tr>\n",
       "      <th>4</th>\n",
       "      <td>110</td>\n",
       "      <td>1</td>\n",
       "      <td>1</td>\n",
       "      <td>76.470001</td>\n",
       "      <td>18.100000</td>\n",
       "      <td>NaN</td>\n",
       "    </tr>\n",
       "    <tr>\n",
       "      <th>5</th>\n",
       "      <td>250</td>\n",
       "      <td>1</td>\n",
       "      <td>1</td>\n",
       "      <td>74.500000</td>\n",
       "      <td>34.599998</td>\n",
       "      <td>NaN</td>\n",
       "    </tr>\n",
       "    <tr>\n",
       "      <th>...</th>\n",
       "      <td>...</td>\n",
       "      <td>...</td>\n",
       "      <td>...</td>\n",
       "      <td>...</td>\n",
       "      <td>...</td>\n",
       "      <td>...</td>\n",
       "    </tr>\n",
       "    <tr>\n",
       "      <th>50350</th>\n",
       "      <td>2008</td>\n",
       "      <td>12</td>\n",
       "      <td>29</td>\n",
       "      <td>99.440002</td>\n",
       "      <td>19.719999</td>\n",
       "      <td>NaN</td>\n",
       "    </tr>\n",
       "    <tr>\n",
       "      <th>50352</th>\n",
       "      <td>2008</td>\n",
       "      <td>12</td>\n",
       "      <td>29</td>\n",
       "      <td>70.070000</td>\n",
       "      <td>36.500000</td>\n",
       "      <td>NaN</td>\n",
       "    </tr>\n",
       "    <tr>\n",
       "      <th>50354</th>\n",
       "      <td>2008</td>\n",
       "      <td>12</td>\n",
       "      <td>29</td>\n",
       "      <td>64.430000</td>\n",
       "      <td>23.450001</td>\n",
       "      <td>NaN</td>\n",
       "    </tr>\n",
       "    <tr>\n",
       "      <th>50358</th>\n",
       "      <td>2008</td>\n",
       "      <td>12</td>\n",
       "      <td>31</td>\n",
       "      <td>67.500000</td>\n",
       "      <td>30.450001</td>\n",
       "      <td>NaN</td>\n",
       "    </tr>\n",
       "    <tr>\n",
       "      <th>50362</th>\n",
       "      <td>2008</td>\n",
       "      <td>12</td>\n",
       "      <td>31</td>\n",
       "      <td>70.349998</td>\n",
       "      <td>37.209999</td>\n",
       "      <td>NaN</td>\n",
       "    </tr>\n",
       "  </tbody>\n",
       "</table>\n",
       "<p>13055 rows × 6 columns</p>\n",
       "</div>"
      ],
      "text/plain": [
       "       YEAR  MONTH  DATE    LAT (N)   LONG (E)  DEPTH (km)\n",
       "0        25      1     1  72.900002  33.720001         NaN\n",
       "1        26      5    10  17.299999  80.099998         NaN\n",
       "3        50      1     1  69.500000  37.099998         NaN\n",
       "4       110      1     1  76.470001  18.100000         NaN\n",
       "5       250      1     1  74.500000  34.599998         NaN\n",
       "...     ...    ...   ...        ...        ...         ...\n",
       "50350  2008     12    29  99.440002  19.719999         NaN\n",
       "50352  2008     12    29  70.070000  36.500000         NaN\n",
       "50354  2008     12    29  64.430000  23.450001         NaN\n",
       "50358  2008     12    31  67.500000  30.450001         NaN\n",
       "50362  2008     12    31  70.349998  37.209999         NaN\n",
       "\n",
       "[13055 rows x 6 columns]"
      ]
     },
     "execution_count": 45,
     "metadata": {},
     "output_type": "execute_result"
    }
   ],
   "source": [
    "df_test"
   ]
  },
  {
   "cell_type": "code",
   "execution_count": 40,
   "metadata": {
    "scrolled": true
   },
   "outputs": [
    {
     "name": "stderr",
     "output_type": "stream",
     "text": [
      "/home/rodo/anaconda3/envs/rodo_main/lib/python3.8/site-packages/datawig/calibration.py:92: RuntimeWarning: invalid value encountered in log\n",
      "  return np.log(probas)\n"
     ]
    }
   ],
   "source": [
    "#Initialize a SimpleImputer model\n",
    "#Fit DataWig imputer and predict\n",
    "imputer = datawig.SimpleImputer(\n",
    "    input_columns=['YEAR', 'MONTH', 'DATE', 'LAT (N)', 'LONG (E)'], # column(s) containing information about the column we want to impute\n",
    "    output_column='DEPTH (km)', # the column we'd like to impute values for\n",
    "    output_path = 'imputer_model' # stores model data and metrics\n",
    "    )\n",
    "\n",
    "#Fit an imputer model on the train data\n",
    "imputer.fit(train_df=df_train)#, num_epochs=50\n",
    "\n",
    "#Impute missing values and return original dataframe with predictions\n",
    "imputed = imputer.predict(df_test)"
   ]
  },
  {
   "cell_type": "code",
   "execution_count": 50,
   "metadata": {},
   "outputs": [],
   "source": [
    "imputed.drop(columns = ['DEPTH (km)'], inplace = True)"
   ]
  },
  {
   "cell_type": "code",
   "execution_count": 59,
   "metadata": {},
   "outputs": [],
   "source": [
    "imputed.rename(columns = {'DEPTH (km)_imputed': 'DEPTH (km)'}, inplace=True)"
   ]
  },
  {
   "cell_type": "code",
   "execution_count": 60,
   "metadata": {},
   "outputs": [
    {
     "data": {
      "text/html": [
       "<div>\n",
       "<style scoped>\n",
       "    .dataframe tbody tr th:only-of-type {\n",
       "        vertical-align: middle;\n",
       "    }\n",
       "\n",
       "    .dataframe tbody tr th {\n",
       "        vertical-align: top;\n",
       "    }\n",
       "\n",
       "    .dataframe thead th {\n",
       "        text-align: right;\n",
       "    }\n",
       "</style>\n",
       "<table border=\"1\" class=\"dataframe\">\n",
       "  <thead>\n",
       "    <tr style=\"text-align: right;\">\n",
       "      <th></th>\n",
       "      <th>YEAR</th>\n",
       "      <th>MONTH</th>\n",
       "      <th>DATE</th>\n",
       "      <th>LAT (N)</th>\n",
       "      <th>LONG (E)</th>\n",
       "      <th>DEPTH (km)</th>\n",
       "    </tr>\n",
       "  </thead>\n",
       "  <tbody>\n",
       "    <tr>\n",
       "      <th>50345</th>\n",
       "      <td>2008</td>\n",
       "      <td>12</td>\n",
       "      <td>29</td>\n",
       "      <td>70.660004</td>\n",
       "      <td>36.689999</td>\n",
       "      <td>84.284623</td>\n",
       "    </tr>\n",
       "    <tr>\n",
       "      <th>50346</th>\n",
       "      <td>2008</td>\n",
       "      <td>12</td>\n",
       "      <td>29</td>\n",
       "      <td>81.860001</td>\n",
       "      <td>29.820000</td>\n",
       "      <td>40.051649</td>\n",
       "    </tr>\n",
       "    <tr>\n",
       "      <th>50347</th>\n",
       "      <td>2008</td>\n",
       "      <td>12</td>\n",
       "      <td>29</td>\n",
       "      <td>71.080002</td>\n",
       "      <td>36.389999</td>\n",
       "      <td>84.436174</td>\n",
       "    </tr>\n",
       "    <tr>\n",
       "      <th>50348</th>\n",
       "      <td>2008</td>\n",
       "      <td>12</td>\n",
       "      <td>29</td>\n",
       "      <td>73.639999</td>\n",
       "      <td>39.560001</td>\n",
       "      <td>64.355545</td>\n",
       "    </tr>\n",
       "    <tr>\n",
       "      <th>50349</th>\n",
       "      <td>2008</td>\n",
       "      <td>12</td>\n",
       "      <td>29</td>\n",
       "      <td>70.790001</td>\n",
       "      <td>36.959999</td>\n",
       "      <td>84.441061</td>\n",
       "    </tr>\n",
       "    <tr>\n",
       "      <th>50350</th>\n",
       "      <td>2008</td>\n",
       "      <td>12</td>\n",
       "      <td>29</td>\n",
       "      <td>99.440002</td>\n",
       "      <td>19.719999</td>\n",
       "      <td>83.841875</td>\n",
       "    </tr>\n",
       "    <tr>\n",
       "      <th>50352</th>\n",
       "      <td>2008</td>\n",
       "      <td>12</td>\n",
       "      <td>29</td>\n",
       "      <td>70.070000</td>\n",
       "      <td>36.500000</td>\n",
       "      <td>83.472619</td>\n",
       "    </tr>\n",
       "    <tr>\n",
       "      <th>50354</th>\n",
       "      <td>2008</td>\n",
       "      <td>12</td>\n",
       "      <td>29</td>\n",
       "      <td>64.430000</td>\n",
       "      <td>23.450001</td>\n",
       "      <td>29.839226</td>\n",
       "    </tr>\n",
       "    <tr>\n",
       "      <th>50358</th>\n",
       "      <td>2008</td>\n",
       "      <td>12</td>\n",
       "      <td>31</td>\n",
       "      <td>67.500000</td>\n",
       "      <td>30.450001</td>\n",
       "      <td>72.390058</td>\n",
       "    </tr>\n",
       "    <tr>\n",
       "      <th>50362</th>\n",
       "      <td>2008</td>\n",
       "      <td>12</td>\n",
       "      <td>31</td>\n",
       "      <td>70.349998</td>\n",
       "      <td>37.209999</td>\n",
       "      <td>83.892448</td>\n",
       "    </tr>\n",
       "  </tbody>\n",
       "</table>\n",
       "</div>"
      ],
      "text/plain": [
       "       YEAR  MONTH  DATE    LAT (N)   LONG (E)  DEPTH (km)\n",
       "50345  2008     12    29  70.660004  36.689999   84.284623\n",
       "50346  2008     12    29  81.860001  29.820000   40.051649\n",
       "50347  2008     12    29  71.080002  36.389999   84.436174\n",
       "50348  2008     12    29  73.639999  39.560001   64.355545\n",
       "50349  2008     12    29  70.790001  36.959999   84.441061\n",
       "50350  2008     12    29  99.440002  19.719999   83.841875\n",
       "50352  2008     12    29  70.070000  36.500000   83.472619\n",
       "50354  2008     12    29  64.430000  23.450001   29.839226\n",
       "50358  2008     12    31  67.500000  30.450001   72.390058\n",
       "50362  2008     12    31  70.349998  37.209999   83.892448"
      ]
     },
     "execution_count": 60,
     "metadata": {},
     "output_type": "execute_result"
    }
   ],
   "source": [
    "imputed.tail(10)"
   ]
  },
  {
   "cell_type": "code",
   "execution_count": 61,
   "metadata": {},
   "outputs": [
    {
     "data": {
      "text/html": [
       "<div>\n",
       "<style scoped>\n",
       "    .dataframe tbody tr th:only-of-type {\n",
       "        vertical-align: middle;\n",
       "    }\n",
       "\n",
       "    .dataframe tbody tr th {\n",
       "        vertical-align: top;\n",
       "    }\n",
       "\n",
       "    .dataframe thead th {\n",
       "        text-align: right;\n",
       "    }\n",
       "</style>\n",
       "<table border=\"1\" class=\"dataframe\">\n",
       "  <thead>\n",
       "    <tr style=\"text-align: right;\">\n",
       "      <th></th>\n",
       "      <th>YEAR</th>\n",
       "      <th>MONTH</th>\n",
       "      <th>DATE</th>\n",
       "      <th>LAT (N)</th>\n",
       "      <th>LONG (E)</th>\n",
       "      <th>DEPTH (km)</th>\n",
       "    </tr>\n",
       "  </thead>\n",
       "  <tbody>\n",
       "    <tr>\n",
       "      <th>0</th>\n",
       "      <td>25</td>\n",
       "      <td>1</td>\n",
       "      <td>1</td>\n",
       "      <td>72.900002</td>\n",
       "      <td>33.720001</td>\n",
       "      <td>-6761.300867</td>\n",
       "    </tr>\n",
       "    <tr>\n",
       "      <th>1</th>\n",
       "      <td>26</td>\n",
       "      <td>5</td>\n",
       "      <td>10</td>\n",
       "      <td>17.299999</td>\n",
       "      <td>80.099998</td>\n",
       "      <td>-6667.137196</td>\n",
       "    </tr>\n",
       "    <tr>\n",
       "      <th>3</th>\n",
       "      <td>50</td>\n",
       "      <td>1</td>\n",
       "      <td>1</td>\n",
       "      <td>69.500000</td>\n",
       "      <td>37.099998</td>\n",
       "      <td>-6665.672532</td>\n",
       "    </tr>\n",
       "    <tr>\n",
       "      <th>4</th>\n",
       "      <td>110</td>\n",
       "      <td>1</td>\n",
       "      <td>1</td>\n",
       "      <td>76.470001</td>\n",
       "      <td>18.100000</td>\n",
       "      <td>-6470.554749</td>\n",
       "    </tr>\n",
       "    <tr>\n",
       "      <th>5</th>\n",
       "      <td>250</td>\n",
       "      <td>1</td>\n",
       "      <td>1</td>\n",
       "      <td>74.500000</td>\n",
       "      <td>34.599998</td>\n",
       "      <td>-5958.788697</td>\n",
       "    </tr>\n",
       "    <tr>\n",
       "      <th>6</th>\n",
       "      <td>260</td>\n",
       "      <td>1</td>\n",
       "      <td>1</td>\n",
       "      <td>77.199997</td>\n",
       "      <td>30.500000</td>\n",
       "      <td>-5928.774719</td>\n",
       "    </tr>\n",
       "    <tr>\n",
       "      <th>7</th>\n",
       "      <td>819</td>\n",
       "      <td>6</td>\n",
       "      <td>1</td>\n",
       "      <td>65.400002</td>\n",
       "      <td>36.400002</td>\n",
       "      <td>-3914.224328</td>\n",
       "    </tr>\n",
       "    <tr>\n",
       "      <th>8</th>\n",
       "      <td>825</td>\n",
       "      <td>1</td>\n",
       "      <td>1</td>\n",
       "      <td>91.800003</td>\n",
       "      <td>26.100000</td>\n",
       "      <td>-3930.948205</td>\n",
       "    </tr>\n",
       "    <tr>\n",
       "      <th>9</th>\n",
       "      <td>849</td>\n",
       "      <td>1</td>\n",
       "      <td>1</td>\n",
       "      <td>62.200001</td>\n",
       "      <td>34.299999</td>\n",
       "      <td>-3801.281943</td>\n",
       "    </tr>\n",
       "    <tr>\n",
       "      <th>10</th>\n",
       "      <td>894</td>\n",
       "      <td>1</td>\n",
       "      <td>1</td>\n",
       "      <td>67.800003</td>\n",
       "      <td>24.799999</td>\n",
       "      <td>-3653.066143</td>\n",
       "    </tr>\n",
       "  </tbody>\n",
       "</table>\n",
       "</div>"
      ],
      "text/plain": [
       "    YEAR  MONTH  DATE    LAT (N)   LONG (E)   DEPTH (km)\n",
       "0     25      1     1  72.900002  33.720001 -6761.300867\n",
       "1     26      5    10  17.299999  80.099998 -6667.137196\n",
       "3     50      1     1  69.500000  37.099998 -6665.672532\n",
       "4    110      1     1  76.470001  18.100000 -6470.554749\n",
       "5    250      1     1  74.500000  34.599998 -5958.788697\n",
       "6    260      1     1  77.199997  30.500000 -5928.774719\n",
       "7    819      6     1  65.400002  36.400002 -3914.224328\n",
       "8    825      1     1  91.800003  26.100000 -3930.948205\n",
       "9    849      1     1  62.200001  34.299999 -3801.281943\n",
       "10   894      1     1  67.800003  24.799999 -3653.066143"
      ]
     },
     "execution_count": 61,
     "metadata": {},
     "output_type": "execute_result"
    }
   ],
   "source": [
    "imputed.head(10)"
   ]
  },
  {
   "cell_type": "code",
   "execution_count": 63,
   "metadata": {},
   "outputs": [],
   "source": [
    "data_imputed_datawig = df_train.combine_first(imputed)"
   ]
  },
  {
   "cell_type": "code",
   "execution_count": 65,
   "metadata": {},
   "outputs": [
    {
     "data": {
      "image/png": "[encoded data removed]",
      "text/plain": [
       "<Figure size 864x576 with 1 Axes>"
      ]
     },
     "metadata": {},
     "output_type": "display_data"
    }
   ],
   "source": [
    "# Plot the depth profile...\n",
    "plt.figure(figsize = (12,8))\n",
    "sns.scatterplot(x = np.arange(len(data_imputed_datawig)), \n",
    "                y = data_imputed_datawig[\"DEPTH (km)\"], linewidth=0)#alpha = 0.7\n",
    "plt.title(\"Depth Imptation using Data-Wig\"); plt.show()"
   ]
  },
  {
   "cell_type": "code",
   "execution_count": 69,
   "metadata": {},
   "outputs": [
    {
     "data": {
      "image/png": "[encoded data removed]",
      "text/plain": [
       "<Figure size 864x576 with 1 Axes>"
      ]
     },
     "metadata": {},
     "output_type": "display_data"
    }
   ],
   "source": [
    "# Plot the depth profile...\n",
    "plt.figure(figsize = (12,8))\n",
    "sns.scatterplot(x = np.arange(len(data_imputed_datawig)), \n",
    "                y = data_imputed_datawig[\"DEPTH (km)\"], linewidth=0)#alpha = 0.7\n",
    "plt.ylim(-50, 1000); plt.title(\"Depth Imptation using Data-Wig with limit on y-axis\"); plt.show()"
   ]
  },
  {
   "cell_type": "code",
   "execution_count": 71,
   "metadata": {},
   "outputs": [
    {
     "data": {
      "image/png": "[encoded data removed]",
      "text/plain": [
       "<Figure size 864x576 with 1 Axes>"
      ]
     },
     "metadata": {},
     "output_type": "display_data"
    }
   ],
   "source": [
    "# Plot the depth profile...\n",
    "plt.figure(figsize = (12,8))\n",
    "sns.scatterplot(x = np.arange(len(df_train)), \n",
    "                y = df_train[\"DEPTH (km)\"], linewidth=0)#alpha = 0.7\n",
    "plt.title(\"Original Training Data - Depth Profile\"); plt.show()"
   ]
  },
  {
   "cell_type": "markdown",
   "metadata": {},
   "source": [
    "__Seeing both the plots we can `drop` this method of imputation as of now.__\n",
    "\n",
    "**Again we can see the `datawig()` model is not completely trained and `earlystopping` is being applied. So it's better to avoid this imputation method.**"
   ]
  },
  {
   "cell_type": "markdown",
   "metadata": {},
   "source": [
    "https://scikit-learn.org/stable/modules/impute.html#iterative-imputer\n",
    "\n",
    "https://machinelearningmastery.com/iterative-imputation-for-missing-values-in-machine-learning/"
   ]
  },
  {
   "cell_type": "markdown",
   "metadata": {},
   "source": [
    "#### MICE (from `fancyimpute`)"
   ]
  },
  {
   "cell_type": "code",
   "execution_count": null,
   "metadata": {},
   "outputs": [],
   "source": [
    "# calling the  MICE class\n",
    "mice_imputer = MICE()\n",
    "# imputing the missing value with mice imputer\n",
    "data_imputed_MICE = mice_imputer.fit_transform(data)\n",
    "# printing dataframe\n",
    "data_imputed_MICE = pd.DataFrame(data_imputed_MICE, columns = ['YEAR', 'MONTH', 'DATE', 'LAT (N)', 'LONG (E)', 'DEPTH (km)'])"
   ]
  },
  {
   "cell_type": "code",
   "execution_count": 37,
   "metadata": {},
   "outputs": [
    {
     "data": {
      "text/html": [
       "<div>\n",
       "<style scoped>\n",
       "    .dataframe tbody tr th:only-of-type {\n",
       "        vertical-align: middle;\n",
       "    }\n",
       "\n",
       "    .dataframe tbody tr th {\n",
       "        vertical-align: top;\n",
       "    }\n",
       "\n",
       "    .dataframe thead th {\n",
       "        text-align: right;\n",
       "    }\n",
       "</style>\n",
       "<table border=\"1\" class=\"dataframe\">\n",
       "  <thead>\n",
       "    <tr style=\"text-align: right;\">\n",
       "      <th></th>\n",
       "      <th>YEAR</th>\n",
       "      <th>MONTH</th>\n",
       "      <th>DATE</th>\n",
       "      <th>LAT (N)</th>\n",
       "      <th>LONG (E)</th>\n",
       "      <th>DEPTH (km)</th>\n",
       "    </tr>\n",
       "  </thead>\n",
       "  <tbody>\n",
       "    <tr>\n",
       "      <th>0</th>\n",
       "      <td>25.0</td>\n",
       "      <td>1.0</td>\n",
       "      <td>1.0</td>\n",
       "      <td>72.900002</td>\n",
       "      <td>33.720001</td>\n",
       "      <td>944.543811</td>\n",
       "    </tr>\n",
       "    <tr>\n",
       "      <th>1</th>\n",
       "      <td>26.0</td>\n",
       "      <td>5.0</td>\n",
       "      <td>10.0</td>\n",
       "      <td>17.299999</td>\n",
       "      <td>80.099998</td>\n",
       "      <td>925.634431</td>\n",
       "    </tr>\n",
       "    <tr>\n",
       "      <th>2</th>\n",
       "      <td>26.0</td>\n",
       "      <td>5.0</td>\n",
       "      <td>10.0</td>\n",
       "      <td>26.000000</td>\n",
       "      <td>97.000000</td>\n",
       "      <td>80.000000</td>\n",
       "    </tr>\n",
       "    <tr>\n",
       "      <th>3</th>\n",
       "      <td>50.0</td>\n",
       "      <td>1.0</td>\n",
       "      <td>1.0</td>\n",
       "      <td>69.500000</td>\n",
       "      <td>37.099998</td>\n",
       "      <td>932.272838</td>\n",
       "    </tr>\n",
       "    <tr>\n",
       "      <th>4</th>\n",
       "      <td>110.0</td>\n",
       "      <td>1.0</td>\n",
       "      <td>1.0</td>\n",
       "      <td>76.470001</td>\n",
       "      <td>18.100000</td>\n",
       "      <td>907.689702</td>\n",
       "    </tr>\n",
       "    <tr>\n",
       "      <th>5</th>\n",
       "      <td>250.0</td>\n",
       "      <td>1.0</td>\n",
       "      <td>1.0</td>\n",
       "      <td>74.500000</td>\n",
       "      <td>34.599998</td>\n",
       "      <td>844.679345</td>\n",
       "    </tr>\n",
       "    <tr>\n",
       "      <th>6</th>\n",
       "      <td>260.0</td>\n",
       "      <td>1.0</td>\n",
       "      <td>1.0</td>\n",
       "      <td>77.199997</td>\n",
       "      <td>30.500000</td>\n",
       "      <td>841.090996</td>\n",
       "    </tr>\n",
       "  </tbody>\n",
       "</table>\n",
       "</div>"
      ],
      "text/plain": [
       "    YEAR  MONTH  DATE    LAT (N)   LONG (E)  DEPTH (km)\n",
       "0   25.0    1.0   1.0  72.900002  33.720001  944.543811\n",
       "1   26.0    5.0  10.0  17.299999  80.099998  925.634431\n",
       "2   26.0    5.0  10.0  26.000000  97.000000   80.000000\n",
       "3   50.0    1.0   1.0  69.500000  37.099998  932.272838\n",
       "4  110.0    1.0   1.0  76.470001  18.100000  907.689702\n",
       "5  250.0    1.0   1.0  74.500000  34.599998  844.679345\n",
       "6  260.0    1.0   1.0  77.199997  30.500000  841.090996"
      ]
     },
     "execution_count": 37,
     "metadata": {},
     "output_type": "execute_result"
    }
   ],
   "source": [
    "data_imputed_MICE.head(7)"
   ]
  },
  {
   "cell_type": "code",
   "execution_count": 64,
   "metadata": {},
   "outputs": [
    {
     "data": {
      "image/png": "[encoded data removed]",
      "text/plain": [
       "<Figure size 864x576 with 1 Axes>"
      ]
     },
     "metadata": {},
     "output_type": "display_data"
    }
   ],
   "source": [
    "# Plot the depth profile...\n",
    "plt.figure(figsize = (12,8))\n",
    "sns.scatterplot(x = np.arange(len(data_imputed_MICE)), \n",
    "                y = data_imputed_MICE['DEPTH (km)'], linewidth=0)#alpha = 0.7\n",
    "plt.title(\"MICE Imputation (from fancyimpute library)\"); plt.show()"
   ]
  },
  {
   "cell_type": "markdown",
   "metadata": {},
   "source": [
    "#### Iterative Imputer (from `scikit-learn`)"
   ]
  },
  {
   "cell_type": "code",
   "execution_count": 39,
   "metadata": {},
   "outputs": [],
   "source": [
    "# Estimate the score after iterative imputation of the missing values\n",
    "# with different estimators\n",
    "estimators = [\n",
    "    BayesianRidge(),\n",
    "    ExtraTreesRegressor(n_estimators=50, random_state=0),\n",
    "    RandomForestRegressor(n_estimators=50, random_state=0)\n",
    "]\n",
    "data_imputed_iterative = {}\n",
    "estimator_names = ['bayesian_ridge', 'extra_trees_regressor', 'random_forest_regressor']\n",
    "for name, impute_estimator in zip(estimator_names, estimators):\n",
    "    data_imputed_iterative[name] = IterativeImputer(random_state=0, estimator=impute_estimator,\n",
    "                                                    imputation_order='random').fit_transform(data.values)\n",
    "    data_imputed_iterative[name] = pd.DataFrame(data_imputed_iterative[name], columns = ['YEAR', \n",
    "                                                                                         'MONTH', \n",
    "                                                                                         'DATE', \n",
    "                                                                                         'LAT (N)', \n",
    "                                                                                         'LONG (E)', \n",
    "                                                                                         'DEPTH (km)'])"
   ]
  },
  {
   "cell_type": "code",
   "execution_count": 40,
   "metadata": {
    "scrolled": true
   },
   "outputs": [
    {
     "data": {
      "image/png": "[encoded data removed]",
      "text/plain": [
       "<Figure size 864x576 with 1 Axes>"
      ]
     },
     "metadata": {},
     "output_type": "display_data"
    },
    {
     "data": {
      "image/png": "[encoded data removed]",
      "text/plain": [
       "<Figure size 864x576 with 1 Axes>"
      ]
     },
     "metadata": {},
     "output_type": "display_data"
    },
    {
     "data": {
      "image/png": "[encoded data removed]",
      "text/plain": [
       "<Figure size 864x576 with 1 Axes>"
      ]
     },
     "metadata": {},
     "output_type": "display_data"
    }
   ],
   "source": [
    "# Plot the depth profile...\n",
    "for name in estimator_names:\n",
    "    plt.figure(figsize = (12,8))\n",
    "    sns.scatterplot(x = np.arange(len(data_imputed_iterative[name])), \n",
    "                    y = (data_imputed_iterative[name])[\"DEPTH (km)\"], linewidth=0)#alpha = 0.7\n",
    "    plt.title(f\"Iterative Imputation with {name} estimator.\")\n",
    "plt.show()"
   ]
  },
  {
   "cell_type": "markdown",
   "metadata": {},
   "source": [
    "__Indeed, the imputation results we obtained through MICE of `facyimpute` package is same as `IterativeImputer` with `Bayesian Ridge` as estimator. Plus, in the documentation of scikit (user-guide) it's clearly mentioned that the Iterative Imputation is purely inspired from MICE algorithm.__"
   ]
  },
  {
   "cell_type": "code",
   "execution_count": 41,
   "metadata": {},
   "outputs": [],
   "source": [
    "# append the label column.\n",
    "for key in data_imputed_iterative.keys():\n",
    "    (data_imputed_iterative[key])['Magnitude'] = label\n",
    "data_transformed_KNN['Magnitude'] = label"
   ]
  },
  {
   "cell_type": "markdown",
   "metadata": {},
   "source": [
    "__Last Pre-Pocessing Step...__\n",
    "\n",
    "Remove duplicate rows present in the dataframe, if any. And finally save all four dataframes."
   ]
  },
  {
   "cell_type": "code",
   "execution_count": 42,
   "metadata": {},
   "outputs": [],
   "source": [
    "# Remove the DUPLICATE Rows --- LAST Pre-processing.\n",
    "for key in data_imputed_iterative.keys():\n",
    "    data_imputed_iterative[key] = (data_imputed_iterative[key])[~data_imputed_iterative[key].duplicated(keep = 'last')]\n",
    "data_transformed_KNN = data_transformed_KNN[~data_transformed_KNN.duplicated(keep = 'last')]"
   ]
  },
  {
   "cell_type": "code",
   "execution_count": 43,
   "metadata": {},
   "outputs": [
    {
     "name": "stdout",
     "output_type": "stream",
     "text": [
      "Successfully Saved!\n"
     ]
    }
   ],
   "source": [
    "# Save all the transformed datasets as excel file.\n",
    "for key in data_imputed_iterative.keys():\n",
    "    (data_imputed_iterative[key]).to_excel(\"imputed_data/Imputed_iterative_\"+key+\".xlsx\", engine = \"openpyxl\")\n",
    "data_transformed_KNN.to_excel(\"imputed_data/Imputed_KNN.xlsx\")\n",
    "print(\"Successfully Saved!\")"
   ]
  },
  {
   "cell_type": "code",
   "execution_count": 2,
   "metadata": {},
   "outputs": [],
   "source": [
    "# Import data-sets.\n",
    "data_dict = {}\n",
    "for file in os.listdir(os.path.join(\"imputed_data\", \"\")):\n",
    "    data_dict[file.split(\".\")[0]] = pd.read_excel(\"imputed_data/\"+file)"
   ]
  },
  {
   "cell_type": "markdown",
   "metadata": {},
   "source": [
    "# Tasks\n",
    "\n",
    "Use __KNN__, __Decision Trees__ and __Ensemble Learning__ to build classifiers for predicting labels as Magnitude (*Mw*). Use an appropriate threshold that seem fit between $[4, 5]$ inclusive. Consider a threshold of $T$. For *Mw* $< T$, label becomes $0$ (no earthquake) and for *Mw* $\\geq T$ becomes $1$ (earthquake). Use appropriate features as input from the dataset that you seem fit. Please mention what threshold you used and what is the train-test split size that you used in the submission."
   ]
  },
  {
   "cell_type": "code",
   "execution_count": 45,
   "metadata": {},
   "outputs": [],
   "source": [
    "#Import all the required models...\n",
    "from sklearn.neighbors import KNeighborsClassifier\n",
    "from sklearn.tree import DecisionTreeClassifier\n",
    "from sklearn.ensemble import RandomForestClassifier\n",
    "from lightgbm import LGBMClassifier\n",
    "from sklearn.model_selection import StratifiedKFold\n",
    "from sklearn.model_selection import GridSearchCV\n",
    "from sklearn.model_selection import cross_val_score\n",
    "#from xgboost import XGBClassifier\n",
    "#from sklearn.ensemble import VotingClassifier"
   ]
  },
  {
   "cell_type": "markdown",
   "metadata": {},
   "source": [
    "__Define the label column according to a particular threshold.__"
   ]
  },
  {
   "cell_type": "code",
   "execution_count": 47,
   "metadata": {},
   "outputs": [
    {
     "data": {
      "image/png": "[encoded data removed]",
      "text/plain": [
       "<Figure size 432x288 with 1 Axes>"
      ]
     },
     "metadata": {},
     "output_type": "display_data"
    }
   ],
   "source": [
    "# Usually 0.5 is taken as the threshold when decisions are made between [0, 1]. Now we'll just scale it to the actual range of Magnitude.\n",
    "magnitude = (data_dict[\"Imputed_iterative_bayesian_ridge\"]['Magnitude'])[data_dict[\"Imputed_iterative_bayesian_ridge\"]['Magnitude'].notnull()]\n",
    "magnitude.hist(); plt.title(\"Magnitude of Earthquake\"); plt.xlabel(\"Magnitude\"); plt.ylabel(\"Frequency\"); plt.show()"
   ]
  },
  {
   "cell_type": "markdown",
   "metadata": {},
   "source": [
    "* To decide the threshold $T$ for `Magnnitude` column, we scaled up the $[0, 1]$ interval to the “range” of magnitue column (i.e., $\\max(mag ni t ud e) - \\min(mag ni t ud e)$) and shifted it by a $constant = \\min(mag ni t ud e)$.\n",
    "\n",
    "* Now as $0.5$ is a safe choice in $[0, 1]$ interval, correspondingly we chose that value in scaled and shifted interval as our threshold (i.e., $= 5.3914$). \n",
    "\n",
    "* Again our choice for such threshold is motivated by the fact that distribution of `Magnitude` is **mostly gaussian with a little skew towards left (positively skewed)**. So choosing a value in between would do the needful.\n",
    "\n",
    "$$T = 0.5\\left(\\max(magnitude)-\\min(magnitude)\\right) + \\min(magnitude)= 5.3914$$"
   ]
  },
  {
   "cell_type": "code",
   "execution_count": 49,
   "metadata": {
    "scrolled": true
   },
   "outputs": [
    {
     "name": "stdout",
     "output_type": "stream",
     "text": [
      "The Threshold for Magnitude that classify it as Earthquake and Non-Earthquake:  5.3914\n"
     ]
    }
   ],
   "source": [
    "#0.5*(magnitude.max() - magnitude.min()) + magnitude.min()\n",
    "T = 0.5*(magnitude.max() - magnitude.min()) + magnitude.min() # Also magnitude.mean() or .median() can be used.\n",
    "print(\"The Threshold for Magnitude that classify it as Earthquake and Non-Earthquake: \", T)"
   ]
  },
  {
   "cell_type": "markdown",
   "metadata": {},
   "source": [
    "__Redefine the dataset by dropping the Magnitude Column and splitting it into Train, Dev, and Test.__"
   ]
  },
  {
   "cell_type": "code",
   "execution_count": 62,
   "metadata": {},
   "outputs": [],
   "source": [
    "# Let's first sparate out the test data (i.e., for which Magnitude is nan).\n",
    "train_val_dict, test_dict = {}, {}\n",
    "#req_cols = list(data_dict[\"Imputed_iterative_bayesian_ridge\"].columns)[1:-1]\n",
    "for key in data_dict.keys():\n",
    "    train_val_dict[key] = ((data_dict[key])[data_dict[key]['Magnitude'].notnull()]).drop(columns = [\"Unnamed: 0\"])\n",
    "    test_dict[key] = ((data_dict[key])[data_dict[key]['Magnitude'].isnull()]).drop(columns = [\"Unnamed: 0\"])"
   ]
  },
  {
   "cell_type": "markdown",
   "metadata": {},
   "source": [
    "__Define Models and Evaluation Criteria...__"
   ]
  },
  {
   "cell_type": "code",
   "execution_count": 51,
   "metadata": {},
   "outputs": [],
   "source": [
    "# get a list of models to evaluate\n",
    "def get_models():\n",
    "    \"\"\"\n",
    "    Return three different models each of different versions (i.e., with different parameters) \n",
    "    \"\"\"\n",
    "    models_param = [{\"n_neighbors\": [50, 80, 120, 150, 180]}, \n",
    "                    {\"max_depth\": [3, 5, 7, 9, 11]}, \n",
    "                    {\"n_estimators\": [10, 25, 50, 100, 150]}]\n",
    "    models = [KNeighborsClassifier(),\n",
    "              DecisionTreeClassifier(random_state=23),\n",
    "              LGBMClassifier(random_state = 23)\n",
    "             ]\n",
    "    return models, models_param\n",
    "\n",
    "\n",
    "# evaluate a give model using cross-validation\n",
    "def evaluate_model(model, param_grid):\n",
    "    \"\"\"\n",
    "    Train model with GridSearchCV mode on the given parameters.\n",
    "    \"\"\"\n",
    "    cv = StratifiedKFold(n_splits=5, random_state=23, shuffle=True)\n",
    "    return GridSearchCV(model, param_grid, scoring=\"roc_auc\", n_jobs=-1, cv=cv, verbose=1)"
   ]
  },
  {
   "cell_type": "markdown",
   "metadata": {},
   "source": [
    "##### __Train the Models and obtain their scores for every possible parameter for each model.__\n",
    "\n",
    "For each dataset (**total 4**), we performed `GridSearch()` with `StratifiedKFold()` with $K = 5$ as our cross-validation. We took $5$ parameters for each of the $3$ models (shown below) and trained it for $5$ times in each fold, which totals to $25$ run for $5$ folds. And $75$ runs for all $3$ models. $75 \\times 4 = 300$ runs for all $4$ datasets.\n",
    "\n",
    "| $n\\_neighbors$ (KNN) | $max\\_depth$ (Decision Tree) | $n\\_estimators$ (LightGBM) |\n",
    "|--------------------|----------------------------|--------------------------|\n",
    "| 50                 | 3                          | 10                       |\n",
    "| 80                 | 5                          | 25                       |\n",
    "| 120                | 7                          | 50                       |\n",
    "| 150                | 9                          | 100                      |\n",
    "| 180                | 11                         | 150                      |"
   ]
  },
  {
   "cell_type": "code",
   "execution_count": 70,
   "metadata": {},
   "outputs": [
    {
     "name": "stdout",
     "output_type": "stream",
     "text": [
      "Fitting 5 folds for each of 5 candidates, totalling 25 fits\n",
      "Fitting 5 folds for each of 5 candidates, totalling 25 fits\n",
      "Fitting 5 folds for each of 5 candidates, totalling 25 fits\n",
      "Fitting 5 folds for each of 5 candidates, totalling 25 fits\n",
      "Fitting 5 folds for each of 5 candidates, totalling 25 fits\n",
      "Fitting 5 folds for each of 5 candidates, totalling 25 fits\n",
      "Fitting 5 folds for each of 5 candidates, totalling 25 fits\n",
      "Fitting 5 folds for each of 5 candidates, totalling 25 fits\n",
      "Fitting 5 folds for each of 5 candidates, totalling 25 fits\n",
      "Fitting 5 folds for each of 5 candidates, totalling 25 fits\n",
      "Fitting 5 folds for each of 5 candidates, totalling 25 fits\n",
      "Fitting 5 folds for each of 5 candidates, totalling 25 fits\n"
     ]
    }
   ],
   "source": [
    "# Run in Loop and Store the results for each Data.\n",
    "final_results = {}\n",
    "for data_key in train_val_dict.keys():\n",
    "    # Call get_model() to get Models and Their Parameters \n",
    "    models, models_param = get_models()\n",
    "    # Initialize new dictionary for each DataSet.\n",
    "    final_results[data_key] = {}\n",
    "    for model, param in zip(models, models_param):\n",
    "        labels = (train_val_dict[data_key][\"Magnitude\"] >= T).astype(np.int32)\n",
    "        if model.__class__.__name__ == \"KNeighborsClassifier\":\n",
    "            # Rescaling data for KNN within 0 and 1.\n",
    "            data = train_val_dict[data_key].iloc[:, :-1].apply(lambda x: (x - min(x))/(max(x) - min(x)))\n",
    "        else:\n",
    "            data = train_val_dict[data_key].iloc[:, :-1]\n",
    "        grid_model = evaluate_model(model, param)\n",
    "        grid_result = grid_model.fit(data, labels)\n",
    "        final_results[data_key][model.__class__.__name__] = grid_result"
   ]
  },
  {
   "cell_type": "markdown",
   "metadata": {},
   "source": [
    "## Task 1\n",
    "\n",
    "Plot __ROC__ for both these classifiers for $K$ as parameter in __KNN__, **pre-prune depth** as a parameter in __Decision Tree__ and __number of estimators__ as parameter in __Ensemble learning__."
   ]
  },
  {
   "cell_type": "code",
   "execution_count": 71,
   "metadata": {},
   "outputs": [],
   "source": [
    "# Helper Functions...\n",
    "def d_to_arr(d, key):\n",
    "    return np.array([dict_ele[key] for dict_ele in d])\n",
    "\n",
    "def to_dataframe(data_scores):\n",
    "    final_df = []\n",
    "    for data_name in data_scores.keys():\n",
    "        df = pd.DataFrame.from_dict(data_scores[data_name]).assign(DataName=data_name)\n",
    "        final_df.append(df)\n",
    "    return pd.concat(final_df, axis = 0, ignore_index = True)    "
   ]
  },
  {
   "cell_type": "markdown",
   "metadata": {},
   "source": [
    "### KNN as Predictor."
   ]
  },
  {
   "cell_type": "code",
   "execution_count": 72,
   "metadata": {},
   "outputs": [],
   "source": [
    "# Plotting ROC scores for KNN Model with every parameter configuration for each DATASet.\n",
    "data_scores_knn = {data_name:\n",
    "               {\"mean_test_score\":final_results[data_name][\"KNeighborsClassifier\"].cv_results_[\"mean_test_score\"], \n",
    "                \"params\":d_to_arr(final_results[data_name][\"KNeighborsClassifier\"].cv_results_[\"params\"], \"n_neighbors\"),\n",
    "                \"std_test_score\":final_results[data_name][\"KNeighborsClassifier\"].cv_results_[\"std_test_score\"]} \n",
    "                for data_name in final_results.keys()}"
   ]
  },
  {
   "cell_type": "code",
   "execution_count": 73,
   "metadata": {},
   "outputs": [
    {
     "data": {
      "image/png": "[encoded data removed]",
      "text/plain": [
       "<Figure size 1224x432 with 1 Axes>"
      ]
     },
     "metadata": {},
     "output_type": "display_data"
    }
   ],
   "source": [
    "# Transformed DataFrame\n",
    "df_knn = to_dataframe(data_scores_knn)\n",
    "\n",
    "# Plot Grouped BAR plot...\n",
    "sns.set_theme(style=\"whitegrid\"); sns.set_context(\"paper\")\n",
    "\n",
    "plt.figure(figsize = (17, 6))\n",
    "# class v / s fare barplot\n",
    "sns.set(font_scale = 1.1)\n",
    "ax = sns.barplot(x = 'DataName', y = 'mean_test_score', hue = 'params', \n",
    "            data = df_knn, palette = sns.color_palette(\"bright\"))\n",
    "ax.set_title(\"For KNeighborsClassifier with K = 50, 80, 120, 150, and 180; with 4 different dataset.\")\n",
    "ax.set_xlabel(\"Dataset obtained through different imputation methods\")\n",
    "# Show the plot\n",
    "plt.show()"
   ]
  },
  {
   "cell_type": "code",
   "execution_count": 74,
   "metadata": {},
   "outputs": [
    {
     "data": {
      "text/html": [
       "<div>\n",
       "<style scoped>\n",
       "    .dataframe tbody tr th:only-of-type {\n",
       "        vertical-align: middle;\n",
       "    }\n",
       "\n",
       "    .dataframe tbody tr th {\n",
       "        vertical-align: top;\n",
       "    }\n",
       "\n",
       "    .dataframe thead th {\n",
       "        text-align: right;\n",
       "    }\n",
       "</style>\n",
       "<table border=\"1\" class=\"dataframe\">\n",
       "  <thead>\n",
       "    <tr style=\"text-align: right;\">\n",
       "      <th></th>\n",
       "      <th>DataSet name</th>\n",
       "      <th>Best Score</th>\n",
       "      <th>Best Parameters</th>\n",
       "    </tr>\n",
       "  </thead>\n",
       "  <tbody>\n",
       "    <tr>\n",
       "      <th>0</th>\n",
       "      <td>Imputed_iterative_random_forest_regressor</td>\n",
       "      <td>0.696671</td>\n",
       "      <td>{'n_neighbors': 120}</td>\n",
       "    </tr>\n",
       "    <tr>\n",
       "      <th>1</th>\n",
       "      <td>Imputed_KNN</td>\n",
       "      <td>0.702050</td>\n",
       "      <td>{'n_neighbors': 120}</td>\n",
       "    </tr>\n",
       "    <tr>\n",
       "      <th>2</th>\n",
       "      <td>Imputed_iterative_extra_trees_regressor</td>\n",
       "      <td>0.697251</td>\n",
       "      <td>{'n_neighbors': 80}</td>\n",
       "    </tr>\n",
       "    <tr>\n",
       "      <th>3</th>\n",
       "      <td>Imputed_iterative_bayesian_ridge</td>\n",
       "      <td>0.707918</td>\n",
       "      <td>{'n_neighbors': 80}</td>\n",
       "    </tr>\n",
       "  </tbody>\n",
       "</table>\n",
       "</div>"
      ],
      "text/plain": [
       "                                DataSet name  Best Score       Best Parameters\n",
       "0  Imputed_iterative_random_forest_regressor    0.696671  {'n_neighbors': 120}\n",
       "1                                Imputed_KNN    0.702050  {'n_neighbors': 120}\n",
       "2    Imputed_iterative_extra_trees_regressor    0.697251   {'n_neighbors': 80}\n",
       "3           Imputed_iterative_bayesian_ridge    0.707918   {'n_neighbors': 80}"
      ]
     },
     "execution_count": 74,
     "metadata": {},
     "output_type": "execute_result"
    }
   ],
   "source": [
    "# best for each data.\n",
    "best_results_knn = pd.DataFrame([[data_name, final_results[data_name][\"KNeighborsClassifier\"].best_score_, \n",
    "                     final_results[data_name][\"KNeighborsClassifier\"].best_params_] \n",
    "                    for data_name in final_results.keys()], columns = [\"DataSet name\", \"Best Score\", \"Best Parameters\"])\n",
    "\n",
    "best_results_knn"
   ]
  },
  {
   "cell_type": "markdown",
   "metadata": {},
   "source": [
    "### Decision Trees as Predcitor."
   ]
  },
  {
   "cell_type": "code",
   "execution_count": 75,
   "metadata": {},
   "outputs": [],
   "source": [
    "# Plotting ROC scores for Decision Tree with every parameter configuration for each DATASet.\"LGBMClassifier\"\n",
    "data_scores_dt = {data_name:\n",
    "               {\"mean_test_score\":final_results[data_name][\"DecisionTreeClassifier\"].cv_results_[\"mean_test_score\"], \n",
    "                \"params\":d_to_arr(final_results[data_name][\"DecisionTreeClassifier\"].cv_results_[\"params\"], \"max_depth\"),\n",
    "                \"std_test_score\":final_results[data_name][\"DecisionTreeClassifier\"].cv_results_[\"std_test_score\"]} \n",
    "                for data_name in final_results.keys()}"
   ]
  },
  {
   "cell_type": "code",
   "execution_count": 76,
   "metadata": {},
   "outputs": [
    {
     "data": {
      "image/png": "[encoded data removed]",
      "text/plain": [
       "<Figure size 1224x432 with 1 Axes>"
      ]
     },
     "metadata": {},
     "output_type": "display_data"
    }
   ],
   "source": [
    "# Transformed DataFrame\n",
    "df_dt = to_dataframe(data_scores_dt)\n",
    "\n",
    "# Plot Grouped BAR plot...\n",
    "sns.set_theme(style=\"whitegrid\"); sns.set_context(\"paper\")\n",
    "\n",
    "plt.figure(figsize = (17, 6))\n",
    "# class v / s fare barplot\n",
    "sns.set(font_scale = 1.1)\n",
    "ax = sns.barplot(x = 'DataName', y = 'mean_test_score', hue = 'params', \n",
    "            data = df_dt, palette = sns.color_palette(\"bright\"))\n",
    "ax.set_title(\"For DecisionTreeClassifier with max_depth = 3, 5, 7, 9, 11; with 4 different dataset.\")\n",
    "ax.set_xlabel(\"Dataset obtained through different imputation methods\")\n",
    "# Show the plot\n",
    "plt.show()"
   ]
  },
  {
   "cell_type": "code",
   "execution_count": 77,
   "metadata": {},
   "outputs": [
    {
     "data": {
      "text/html": [
       "<div>\n",
       "<style scoped>\n",
       "    .dataframe tbody tr th:only-of-type {\n",
       "        vertical-align: middle;\n",
       "    }\n",
       "\n",
       "    .dataframe tbody tr th {\n",
       "        vertical-align: top;\n",
       "    }\n",
       "\n",
       "    .dataframe thead th {\n",
       "        text-align: right;\n",
       "    }\n",
       "</style>\n",
       "<table border=\"1\" class=\"dataframe\">\n",
       "  <thead>\n",
       "    <tr style=\"text-align: right;\">\n",
       "      <th></th>\n",
       "      <th>DataSet name</th>\n",
       "      <th>Best Score</th>\n",
       "      <th>Best Parameters</th>\n",
       "    </tr>\n",
       "  </thead>\n",
       "  <tbody>\n",
       "    <tr>\n",
       "      <th>0</th>\n",
       "      <td>Imputed_iterative_random_forest_regressor</td>\n",
       "      <td>0.786551</td>\n",
       "      <td>{'max_depth': 7}</td>\n",
       "    </tr>\n",
       "    <tr>\n",
       "      <th>1</th>\n",
       "      <td>Imputed_KNN</td>\n",
       "      <td>0.784880</td>\n",
       "      <td>{'max_depth': 7}</td>\n",
       "    </tr>\n",
       "    <tr>\n",
       "      <th>2</th>\n",
       "      <td>Imputed_iterative_extra_trees_regressor</td>\n",
       "      <td>0.789578</td>\n",
       "      <td>{'max_depth': 7}</td>\n",
       "    </tr>\n",
       "    <tr>\n",
       "      <th>3</th>\n",
       "      <td>Imputed_iterative_bayesian_ridge</td>\n",
       "      <td>0.787396</td>\n",
       "      <td>{'max_depth': 7}</td>\n",
       "    </tr>\n",
       "  </tbody>\n",
       "</table>\n",
       "</div>"
      ],
      "text/plain": [
       "                                DataSet name  Best Score   Best Parameters\n",
       "0  Imputed_iterative_random_forest_regressor    0.786551  {'max_depth': 7}\n",
       "1                                Imputed_KNN    0.784880  {'max_depth': 7}\n",
       "2    Imputed_iterative_extra_trees_regressor    0.789578  {'max_depth': 7}\n",
       "3           Imputed_iterative_bayesian_ridge    0.787396  {'max_depth': 7}"
      ]
     },
     "execution_count": 77,
     "metadata": {},
     "output_type": "execute_result"
    }
   ],
   "source": [
    "# best for each data.\n",
    "best_results_dt = pd.DataFrame([[data_name, final_results[data_name][\"DecisionTreeClassifier\"].best_score_, \n",
    "                     final_results[data_name][\"DecisionTreeClassifier\"].best_params_] \n",
    "                    for data_name in final_results.keys()], columns = [\"DataSet name\", \"Best Score\", \"Best Parameters\"])\n",
    "\n",
    "best_results_dt"
   ]
  },
  {
   "cell_type": "markdown",
   "metadata": {},
   "source": [
    "### Ensemble Learning as Predictor."
   ]
  },
  {
   "cell_type": "code",
   "execution_count": 78,
   "metadata": {},
   "outputs": [],
   "source": [
    "# Plotting ROC scores for Ensemble Model (LightGBM) with every parameter configuration for each DATASet.\n",
    "data_scores_lgbm = {data_name:\n",
    "               {\"mean_test_score\":final_results[data_name][\"LGBMClassifier\"].cv_results_[\"mean_test_score\"],\n",
    "                \"params\":d_to_arr(final_results[data_name][\"LGBMClassifier\"].cv_results_[\"params\"], \"n_estimators\"),\n",
    "                \"std_test_score\":final_results[data_name][\"LGBMClassifier\"].cv_results_[\"std_test_score\"]} \n",
    "                for data_name in final_results.keys()}"
   ]
  },
  {
   "cell_type": "code",
   "execution_count": 79,
   "metadata": {
    "scrolled": false
   },
   "outputs": [
    {
     "data": {
      "image/png": "[encoded data removed]",
      "text/plain": [
       "<Figure size 1224x432 with 1 Axes>"
      ]
     },
     "metadata": {},
     "output_type": "display_data"
    }
   ],
   "source": [
    "# Transformed DataFrame\n",
    "df_lgbm = to_dataframe(data_scores_lgbm)\n",
    "\n",
    "# Plot Grouped BAR plot...\n",
    "sns.set_theme(style=\"whitegrid\"); sns.set_context(\"paper\")\n",
    "\n",
    "plt.figure(figsize = (17, 6))\n",
    "# class v / s fare barplot\n",
    "sns.set(font_scale = 1.1)\n",
    "ax = sns.barplot(x = 'DataName', y = 'mean_test_score', hue = 'params', \n",
    "            data = df_lgbm, palette = sns.color_palette(\"bright\"))\n",
    "ax.set_title(\"For LightGBM Classifier with n_estimators = 10, 25, 50, 100, 150; with 4 different dataset.\")\n",
    "ax.set_xlabel(\"Dataset obtained through different imputation methods\")\n",
    "# Show the plot\n",
    "plt.show()"
   ]
  },
  {
   "cell_type": "code",
   "execution_count": 80,
   "metadata": {},
   "outputs": [
    {
     "data": {
      "text/html": [
       "<div>\n",
       "<style scoped>\n",
       "    .dataframe tbody tr th:only-of-type {\n",
       "        vertical-align: middle;\n",
       "    }\n",
       "\n",
       "    .dataframe tbody tr th {\n",
       "        vertical-align: top;\n",
       "    }\n",
       "\n",
       "    .dataframe thead th {\n",
       "        text-align: right;\n",
       "    }\n",
       "</style>\n",
       "<table border=\"1\" class=\"dataframe\">\n",
       "  <thead>\n",
       "    <tr style=\"text-align: right;\">\n",
       "      <th></th>\n",
       "      <th>DataSet name</th>\n",
       "      <th>Best Score</th>\n",
       "      <th>Best Parameters</th>\n",
       "    </tr>\n",
       "  </thead>\n",
       "  <tbody>\n",
       "    <tr>\n",
       "      <th>0</th>\n",
       "      <td>Imputed_iterative_random_forest_regressor</td>\n",
       "      <td>0.822354</td>\n",
       "      <td>{'n_estimators': 50}</td>\n",
       "    </tr>\n",
       "    <tr>\n",
       "      <th>1</th>\n",
       "      <td>Imputed_KNN</td>\n",
       "      <td>0.820575</td>\n",
       "      <td>{'n_estimators': 50}</td>\n",
       "    </tr>\n",
       "    <tr>\n",
       "      <th>2</th>\n",
       "      <td>Imputed_iterative_extra_trees_regressor</td>\n",
       "      <td>0.820878</td>\n",
       "      <td>{'n_estimators': 50}</td>\n",
       "    </tr>\n",
       "    <tr>\n",
       "      <th>3</th>\n",
       "      <td>Imputed_iterative_bayesian_ridge</td>\n",
       "      <td>0.821555</td>\n",
       "      <td>{'n_estimators': 50}</td>\n",
       "    </tr>\n",
       "  </tbody>\n",
       "</table>\n",
       "</div>"
      ],
      "text/plain": [
       "                                DataSet name  Best Score       Best Parameters\n",
       "0  Imputed_iterative_random_forest_regressor    0.822354  {'n_estimators': 50}\n",
       "1                                Imputed_KNN    0.820575  {'n_estimators': 50}\n",
       "2    Imputed_iterative_extra_trees_regressor    0.820878  {'n_estimators': 50}\n",
       "3           Imputed_iterative_bayesian_ridge    0.821555  {'n_estimators': 50}"
      ]
     },
     "execution_count": 80,
     "metadata": {},
     "output_type": "execute_result"
    }
   ],
   "source": [
    "# best for each data.\n",
    "best_results_lgbm = pd.DataFrame([[data_name, final_results[data_name][\"LGBMClassifier\"].best_score_, \n",
    "                     final_results[data_name][\"LGBMClassifier\"].best_params_] \n",
    "                    for data_name in final_results.keys()], columns = [\"DataSet name\", \"Best Score\", \"Best Parameters\"])\n",
    "\n",
    "best_results_lgbm"
   ]
  },
  {
   "cell_type": "markdown",
   "metadata": {},
   "source": [
    "###### Analysis:\n",
    "\n",
    "__Seeing above results we infer that, MORE or LESS every Imputation worked well and are at par with each other.__\n",
    "\n",
    "1. __The one that gave the best performance with all the 3 models is `Random Forest Regressor` embedded as estimator in `Iterative Imputer`.__\n",
    "2. __Secondly, with `Grid Search` and `Cross-validation` with 5 folds (that split TRAIN and VAL into 80%:20% = 4:1) we obtained our best parameters for each model.__\n",
    "3. __Among all the `Ensemble` classifier that's the `LightGBM` performed the best.__"
   ]
  },
  {
   "cell_type": "markdown",
   "metadata": {},
   "source": [
    "## Task 2\n",
    "\n",
    "Which is the better classifier for this data amongst the three? Give Reasoning."
   ]
  },
  {
   "cell_type": "markdown",
   "metadata": {},
   "source": [
    "__Answer:__\n",
    "\n",
    "As we discussed above the `LightGBM` is the best classifier amongst the three.\\\n",
    "**Reasoning**:\n",
    "\n",
    "1. Since this is a boosting classifier it consists of iteratively (sequentially) learning weak classifiers with respect to a distribution with a motive to rectify the mistakes commited by the previous classifier i.e., basically tries to correctly classify the mis-classified sample from previous learner. \n",
    "2. And in this process more weight is being conferred to the mis-classified data while a successive learner (classifier) tries to learn. \n",
    "3. Finally, combining them generates strong classifier where all the learners decisions are respected through a voting criteria."
   ]
  },
  {
   "cell_type": "markdown",
   "metadata": {},
   "source": [
    "## Task 3\n",
    "\n",
    "What could be the best possible values of the parameters for respective\n",
    "classifier based on the ROC curves? Give Reasoning."
   ]
  },
  {
   "cell_type": "markdown",
   "metadata": {},
   "source": [
    "***Answer***:\n",
    "\n",
    "The best possible values of parameters according to the `GridSearch()` implemented are as follows:\n",
    "1. k-Neighbors Classifier: $k = n\\_neighbors = 120$ for all four dataset.\\\n",
    "Reasoning:\n",
    "    * When the value of $K$ or the number of neighbors is too low, the algorithm picks only the data-points that are closest to the given data sample, thus forming a very complex decision boundary. Such a model fails to generalize well on the test data set, thereby showing poor results. \n",
    "    * The problem can be mitigated by tweaking `n_neighbors` parameter. As we increase the number of neighbors, the model starts to generalize well, but increasing the value too much would again drop the performance.\n",
    "2. Decision Tree: Depth of Tree $= max\\_depth = 7$ for all four dataset.\\\n",
    "Reasoning:\n",
    "    * If we restrict our decision trees to have a lower depth then we couldn't have enough splits to reach the pure leaf node where decisions are taken and hence pre-mature pruning causes model to underfit.\n",
    "    * And if we allow our tree to grow deeper, our model will become more complex since we are having enough splits which captures more information this causes overfitting as our model will fit perfectly for the training data and will not be able to generalize well on test set.\n",
    "3. LightGBM: Number of Estimators = Number of Decision Trees $= n\\_estimators = 50$ for all four dataset.\\\n",
    "Reasoning:\n",
    "    * Here again we're facing the same scenario. Taking less than $50$ trees doesn't allow the whole model to completely understand the data i.e., the mis-classification problem with each sequential weak learner is not completely eradicated. And taking $\\geq 50$ allowed it to understand the data more closely and hence overfit."
   ]
  },
  {
   "cell_type": "markdown",
   "metadata": {},
   "source": [
    "## Task 4\n",
    "If you have to choose only a subset of **two** features to predict earthquake, which ones would it be? Give Reasoning. [*Hint: You may use nodes of estimated Decision Tree or other techniques*]"
   ]
  },
  {
   "cell_type": "code",
   "execution_count": 99,
   "metadata": {},
   "outputs": [],
   "source": [
    "# Final Data -- Choose one of the four dataset.\n",
    "final_data = train_val_dict[\"Imputed_iterative_random_forest_regressor\"].iloc[:, :-1]\n",
    "labels_final = (train_val_dict[\"Imputed_iterative_random_forest_regressor\"][\"Magnitude\"] >= T).astype(np.int32)"
   ]
  },
  {
   "cell_type": "code",
   "execution_count": 100,
   "metadata": {},
   "outputs": [],
   "source": [
    "# Perform feature Importance Analysis using RandomForestClassifier on final_data.\n",
    "# define the model\n",
    "feature_imp_model = RandomForestClassifier()\n",
    "# fit the model\n",
    "feature_imp_model.fit(final_data, labels_final)\n",
    "# get importance\n",
    "importance = feature_imp_model.feature_importances_"
   ]
  },
  {
   "cell_type": "code",
   "execution_count": 101,
   "metadata": {},
   "outputs": [
    {
     "name": "stdout",
     "output_type": "stream",
     "text": [
      " Feature: YEAR, Score: 0.31644 \n",
      " Feature: MONTH, Score: 0.06361 \n",
      " Feature: DATE, Score: 0.09923 \n",
      " Feature: LAT (N), Score: 0.19354 \n",
      " Feature: LONG (E), Score: 0.19792 \n",
      " Feature: DEPTH (km), Score: 0.12926 \n"
     ]
    },
    {
     "data": {
      "image/png": "[encoded data removed]",
      "text/plain": [
       "<Figure size 1152x504 with 1 Axes>"
      ]
     },
     "metadata": {},
     "output_type": "display_data"
    }
   ],
   "source": [
    "# summarize feature importance\n",
    "for i,v in zip(list(final_data.columns), importance):\n",
    "    print( ' Feature: %s, Score: %.5f ' % (i,v))\n",
    "# plot feature importance\n",
    "plt.figure(figsize = (16, 7)); plt.title(\"Feature importance v/s Their Importance Score.\")\n",
    "plt.bar(list(final_data.columns), importance); plt.ylabel(\"Importance Score\"); plt.show()"
   ]
  },
  {
   "cell_type": "markdown",
   "metadata": {},
   "source": [
    "__So as per above analysis, we can assert that `YEAR`, `LAT (N)` and `LONG (E)` are the features among all that best explains the Magnitude.__\n",
    "\n",
    "***Reasoning:***\n",
    "1. According to Longitude and Latidude, we can have information about Earthquake prone location or we can put it in this way that at given (Longitude, Latitude) the tectonic plate exhibit such motions that decide about the magnitude of earthquake and it's degree of severeness.\n",
    "2. Normally, at locations where tectonic plates collide (convergent boundary) or emerge (divergent boundary), we can witness earthquake, not all locations do that.\n",
    "3. `YEAR` record the time-stamp or time-rate of change of plates boundary position which informs us regarding the tectonic activity which may occur in future (resulting in Earth-Quake). If time-rate is high then for sure in future there will be earthquakes and it's a earthquake prone zone. So given the time-rate and co-ordinates, one can predict is this a earth-quake prone zone or not and accordingly can predict when next the future earthquake will happen."
   ]
  },
  {
   "cell_type": "markdown",
   "metadata": {},
   "source": [
    "## Task 5\n",
    "Consider **test results** of the **best model** from above analysis. Report the input features that was used to achieve this. Try to improvise the test results by applying **feature processing** (You may come up with additional features by processing original ones).\\\n",
    "Report the new set of features that was used and also report the improvements in test results that was achieved. Please use appropriate metrics to report the results."
   ]
  },
  {
   "cell_type": "markdown",
   "metadata": {},
   "source": [
    "***Answer:***\n",
    "1. __According to the 5-fold CV results, the best model is none other than `LightGBM` classifier with ROC-AUC score $= 82.2$.__\n",
    "2. Input Features used = `YEAR`, `MONTH`, `DATE`, `LAT (N)`, `LONG (E)`, and `DEPTH (km)`"
   ]
  },
  {
   "cell_type": "code",
   "execution_count": 109,
   "metadata": {},
   "outputs": [],
   "source": [
    "# Adding Latitude and Longitude ratio as new feature column.\n",
    "new_data = final_data.assign(LAT_LONG_Ratio = lambda x: x[\"LAT (N)\"]/x[\"LONG (E)\"])"
   ]
  },
  {
   "cell_type": "code",
   "execution_count": 112,
   "metadata": {},
   "outputs": [
    {
     "name": "stderr",
     "output_type": "stream",
     "text": [
      "[Parallel(n_jobs=-1)]: Using backend LokyBackend with 4 concurrent workers.\n"
     ]
    },
    {
     "name": "stdout",
     "output_type": "stream",
     "text": [
      "Scores for 5 folds: [0.83168649 0.80908615 0.82557257 0.81675682 0.82167914]\n",
      "Average score = 0.8209562341154049\n"
     ]
    },
    {
     "name": "stderr",
     "output_type": "stream",
     "text": [
      "[Parallel(n_jobs=-1)]: Done   5 out of   5 | elapsed:    0.7s finished\n"
     ]
    }
   ],
   "source": [
    "# define an instance of LightGBM model\n",
    "lgbm = LGBMClassifier(n_estimators = 50, random_state = 23)\n",
    "# fit the model with 5-fold Cross-validation\n",
    "# define cv splitter\n",
    "cv = StratifiedKFold(n_splits=5, shuffle=True, random_state=23)#, shuffle=True, random_state=23\n",
    "# Load the model and Data to instance of splitter and fit.\n",
    "scores = cross_val_score(lgbm, new_data, labels_final, cv=cv, n_jobs = -1,  scoring=\"roc_auc\", verbose=1)\n",
    "\n",
    "# print the scores.\n",
    "print(f\"Scores for 5 folds: {scores}\\nAverage score = {np.mean(scores)}\")"
   ]
  },
  {
   "cell_type": "markdown",
   "metadata": {},
   "source": [
    "##### Analysis...\n",
    "\n",
    "1. __With addition of *Ratio column* for dataset imputed with `Random Forest regressor` method embedded in `Iterative Imputation` wrapper, we got a decrement in `ROC_AUC` score from `0.822354` to `0.820956` which is almost 0.17% decrement.__\n",
    "2. __New features: `YEAR`, `MONTH`, `DATE`, `LAT (N)`, `LONG (E)`, `DEPTH (km)`, `LAT_LONG_Ratio`.__\n",
    "3. **Feel free to `fork` this note-book and play around any sections you want. Also `comment down` if anyone comes up with `feature-engneering` method that help models perform better.**"
   ]
  },
  {
   "cell_type": "markdown",
   "metadata": {},
   "source": [
    "# ROUGH"
   ]
  },
  {
   "cell_type": "markdown",
   "metadata": {},
   "source": [
    "###### shuffle the samples\n",
    "df = df.sample(n = len(df), random_state = 42)\n",
    "df = df.reset_index(drop = True)\n",
    "df_valid = df.sample(frac = 0.3, random_state = 42)\n",
    "df_train = df.drop(df_valid.index)"
   ]
  },
  {
   "cell_type": "raw",
   "metadata": {},
   "source": [
    "for ele in (data.loc[52930])['LAT (N)']:\n",
    "    print(ord(ele), \"--\", ele)\n",
    "\n",
    "for ele in (data.loc[50998])['LAT (N)']:\n",
    "    print(ord(ele), \"--\", ele)\n",
    "\n",
    "for ele in (data.loc[50779])['LAT (N)']:\n",
    "    print(ord(ele), \"--\", ele)"
   ]
  },
  {
   "cell_type": "raw",
   "metadata": {},
   "source": [
    "VotingClassifier(estimators=[('rf', RandomForestClassifier(random_state = 23)), \n",
    "                             ('lgbm', LGBMClassifier(random_state = 23)), \n",
    "                             ('xgb', XGBClassifier(random_state = 23))], voting='soft')"
   ]
  },
  {
   "cell_type": "raw",
   "metadata": {},
   "source": [
    "numpy.testing.assert_equal(v1, v2)\n",
    "numpy.isclose(v1, v2, equal_nan=True)\n",
    "x = float('nan')\n",
    "math.isnan(x)\n",
    "pd.isna(x)\n",
    "np.isnan(x)"
   ]
  },
  {
   "cell_type": "raw",
   "metadata": {},
   "source": [
    "ee = {\"w\":{\"l\":{123:23, 34:23}, \"t\":{23:56, 89:78}}, \"e\":{\"rr\":{123:23, 34:23}, \"u\":{23:56, 89:78}}}"
   ]
  }
 ],
 "metadata": {
  "kernelspec": {
   "display_name": "Python 3",
   "language": "python",
   "name": "python3"
  },
  "language_info": {
   "codemirror_mode": {
    "name": "ipython",
    "version": 3
   },
   "file_extension": ".py",
   "mimetype": "text/x-python",
   "name": "python",
   "nbconvert_exporter": "python",
   "pygments_lexer": "ipython3",
   "version": "3.8.11"
  },
  "toc": {
   "base_numbering": 1,
   "nav_menu": {},
   "number_sections": true,
   "sideBar": true,
   "skip_h1_title": false,
   "title_cell": "Table of Contents",
   "title_sidebar": "Contents",
   "toc_cell": false,
   "toc_position": {},
   "toc_section_display": true,
   "toc_window_display": false
  }
 },
 "nbformat": 4,
 "nbformat_minor": 4
}
