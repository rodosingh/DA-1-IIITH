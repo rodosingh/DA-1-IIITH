{
 "cells": [
  {
   "cell_type": "code",
   "execution_count": 1,
   "id": "ff59774d",
   "metadata": {},
   "outputs": [],
   "source": [
    "import pandas as pd\n",
    "import matplotlib.pyplot as plt\n",
    "import seaborn as sns\n",
    "import numpy as np"
   ]
  },
  {
   "cell_type": "code",
   "execution_count": 2,
   "id": "e8eaf120",
   "metadata": {},
   "outputs": [],
   "source": [
    "import sys\n",
    "import os "
   ]
  },
  {
   "cell_type": "code",
   "execution_count": 3,
   "id": "eded50ff",
   "metadata": {},
   "outputs": [],
   "source": [
    "module_path = os.path.abspath(os.path.join('C:/Users/Vrund/Desktop/IIIT-H MS Research/Semester 1/Data Analytics 1/Project'))\n",
    "#if module_path not in sys.path:\n",
    "sys.path.append(module_path)"
   ]
  },
  {
   "cell_type": "code",
   "execution_count": 4,
   "id": "831ceb05",
   "metadata": {},
   "outputs": [],
   "source": [
    "from scipy.cluster.hierarchy import linkage , dendrogram"
   ]
  },
  {
   "cell_type": "code",
   "execution_count": 5,
   "id": "116daa65",
   "metadata": {},
   "outputs": [],
   "source": [
    "import sklearn.cluster as sc"
   ]
  },
  {
   "cell_type": "code",
   "execution_count": 6,
   "id": "43203280",
   "metadata": {},
   "outputs": [],
   "source": [
    "df1 = pd.read_csv(\"Data_Case1_normalized.csv\")"
   ]
  },
  {
   "cell_type": "code",
   "execution_count": 7,
   "id": "48368a1f",
   "metadata": {},
   "outputs": [
    {
     "data": {
      "text/html": [
       "<div>\n",
       "<style scoped>\n",
       "    .dataframe tbody tr th:only-of-type {\n",
       "        vertical-align: middle;\n",
       "    }\n",
       "\n",
       "    .dataframe tbody tr th {\n",
       "        vertical-align: top;\n",
       "    }\n",
       "\n",
       "    .dataframe thead th {\n",
       "        text-align: right;\n",
       "    }\n",
       "</style>\n",
       "<table border=\"1\" class=\"dataframe\">\n",
       "  <thead>\n",
       "    <tr style=\"text-align: right;\">\n",
       "      <th></th>\n",
       "      <th>Unnamed: 0</th>\n",
       "      <th>Overall</th>\n",
       "      <th>Potential</th>\n",
       "      <th>Weak Foot</th>\n",
       "      <th>Skill Moves</th>\n",
       "      <th>Performance</th>\n",
       "      <th>Crossing</th>\n",
       "      <th>Finishing</th>\n",
       "      <th>HeadingAccuracy</th>\n",
       "      <th>ShortPassing</th>\n",
       "      <th>...</th>\n",
       "      <th>Interceptions</th>\n",
       "      <th>Positioning</th>\n",
       "      <th>Vision</th>\n",
       "      <th>Penalties</th>\n",
       "      <th>Composure</th>\n",
       "      <th>Marking</th>\n",
       "      <th>StandingTackle</th>\n",
       "      <th>SlidingTackle</th>\n",
       "      <th>ID</th>\n",
       "      <th>Name</th>\n",
       "    </tr>\n",
       "  </thead>\n",
       "  <tbody>\n",
       "    <tr>\n",
       "      <th>0</th>\n",
       "      <td>0</td>\n",
       "      <td>100.000</td>\n",
       "      <td>97.872</td>\n",
       "      <td>75.0</td>\n",
       "      <td>75.0</td>\n",
       "      <td>100.000</td>\n",
       "      <td>89.773</td>\n",
       "      <td>100.000</td>\n",
       "      <td>73.333</td>\n",
       "      <td>96.512</td>\n",
       "      <td>...</td>\n",
       "      <td>21.348</td>\n",
       "      <td>98.925</td>\n",
       "      <td>100.000</td>\n",
       "      <td>80.460</td>\n",
       "      <td>100.000</td>\n",
       "      <td>32.967</td>\n",
       "      <td>28.571</td>\n",
       "      <td>26.136</td>\n",
       "      <td>158023</td>\n",
       "      <td>L. Messi</td>\n",
       "    </tr>\n",
       "    <tr>\n",
       "      <th>1</th>\n",
       "      <td>1</td>\n",
       "      <td>100.000</td>\n",
       "      <td>97.872</td>\n",
       "      <td>75.0</td>\n",
       "      <td>100.0</td>\n",
       "      <td>96.774</td>\n",
       "      <td>89.773</td>\n",
       "      <td>98.925</td>\n",
       "      <td>94.444</td>\n",
       "      <td>86.047</td>\n",
       "      <td>...</td>\n",
       "      <td>29.213</td>\n",
       "      <td>100.000</td>\n",
       "      <td>85.714</td>\n",
       "      <td>91.954</td>\n",
       "      <td>98.925</td>\n",
       "      <td>27.473</td>\n",
       "      <td>31.868</td>\n",
       "      <td>22.727</td>\n",
       "      <td>20801</td>\n",
       "      <td>Cristiano Ronaldo</td>\n",
       "    </tr>\n",
       "    <tr>\n",
       "      <th>2</th>\n",
       "      <td>2</td>\n",
       "      <td>95.833</td>\n",
       "      <td>95.745</td>\n",
       "      <td>100.0</td>\n",
       "      <td>100.0</td>\n",
       "      <td>93.548</td>\n",
       "      <td>84.091</td>\n",
       "      <td>91.398</td>\n",
       "      <td>64.444</td>\n",
       "      <td>89.535</td>\n",
       "      <td>...</td>\n",
       "      <td>37.079</td>\n",
       "      <td>93.548</td>\n",
       "      <td>91.667</td>\n",
       "      <td>87.356</td>\n",
       "      <td>97.849</td>\n",
       "      <td>26.374</td>\n",
       "      <td>24.176</td>\n",
       "      <td>34.091</td>\n",
       "      <td>190871</td>\n",
       "      <td>Neymar Jr</td>\n",
       "    </tr>\n",
       "    <tr>\n",
       "      <th>3</th>\n",
       "      <td>3</td>\n",
       "      <td>93.750</td>\n",
       "      <td>95.745</td>\n",
       "      <td>50.0</td>\n",
       "      <td>0.0</td>\n",
       "      <td>93.226</td>\n",
       "      <td>13.636</td>\n",
       "      <td>11.828</td>\n",
       "      <td>18.889</td>\n",
       "      <td>50.000</td>\n",
       "      <td>...</td>\n",
       "      <td>30.337</td>\n",
       "      <td>10.753</td>\n",
       "      <td>69.048</td>\n",
       "      <td>40.230</td>\n",
       "      <td>69.892</td>\n",
       "      <td>13.187</td>\n",
       "      <td>20.879</td>\n",
       "      <td>11.364</td>\n",
       "      <td>193080</td>\n",
       "      <td>De Gea</td>\n",
       "    </tr>\n",
       "    <tr>\n",
       "      <th>4</th>\n",
       "      <td>4</td>\n",
       "      <td>93.750</td>\n",
       "      <td>93.617</td>\n",
       "      <td>100.0</td>\n",
       "      <td>75.0</td>\n",
       "      <td>90.323</td>\n",
       "      <td>100.000</td>\n",
       "      <td>86.022</td>\n",
       "      <td>56.667</td>\n",
       "      <td>98.837</td>\n",
       "      <td>...</td>\n",
       "      <td>65.169</td>\n",
       "      <td>91.398</td>\n",
       "      <td>100.000</td>\n",
       "      <td>85.057</td>\n",
       "      <td>91.398</td>\n",
       "      <td>71.429</td>\n",
       "      <td>61.538</td>\n",
       "      <td>54.545</td>\n",
       "      <td>192985</td>\n",
       "      <td>K. De Bruyne</td>\n",
       "    </tr>\n",
       "  </tbody>\n",
       "</table>\n",
       "<p>5 rows × 37 columns</p>\n",
       "</div>"
      ],
      "text/plain": [
       "   Unnamed: 0  Overall  Potential  Weak Foot  Skill Moves  Performance  \\\n",
       "0           0  100.000     97.872       75.0         75.0      100.000   \n",
       "1           1  100.000     97.872       75.0        100.0       96.774   \n",
       "2           2   95.833     95.745      100.0        100.0       93.548   \n",
       "3           3   93.750     95.745       50.0          0.0       93.226   \n",
       "4           4   93.750     93.617      100.0         75.0       90.323   \n",
       "\n",
       "   Crossing  Finishing  HeadingAccuracy  ShortPassing  ...  Interceptions  \\\n",
       "0    89.773    100.000           73.333        96.512  ...         21.348   \n",
       "1    89.773     98.925           94.444        86.047  ...         29.213   \n",
       "2    84.091     91.398           64.444        89.535  ...         37.079   \n",
       "3    13.636     11.828           18.889        50.000  ...         30.337   \n",
       "4   100.000     86.022           56.667        98.837  ...         65.169   \n",
       "\n",
       "   Positioning   Vision  Penalties  Composure  Marking  StandingTackle  \\\n",
       "0       98.925  100.000     80.460    100.000   32.967          28.571   \n",
       "1      100.000   85.714     91.954     98.925   27.473          31.868   \n",
       "2       93.548   91.667     87.356     97.849   26.374          24.176   \n",
       "3       10.753   69.048     40.230     69.892   13.187          20.879   \n",
       "4       91.398  100.000     85.057     91.398   71.429          61.538   \n",
       "\n",
       "   SlidingTackle      ID               Name  \n",
       "0         26.136  158023           L. Messi  \n",
       "1         22.727   20801  Cristiano Ronaldo  \n",
       "2         34.091  190871          Neymar Jr  \n",
       "3         11.364  193080             De Gea  \n",
       "4         54.545  192985       K. De Bruyne  \n",
       "\n",
       "[5 rows x 37 columns]"
      ]
     },
     "execution_count": 7,
     "metadata": {},
     "output_type": "execute_result"
    }
   ],
   "source": [
    "df1.head()"
   ]
  },
  {
   "cell_type": "code",
   "execution_count": 8,
   "id": "2b9062a0",
   "metadata": {},
   "outputs": [],
   "source": [
    "df_ = df1.iloc[:,1:-2].values"
   ]
  },
  {
   "cell_type": "code",
   "execution_count": 9,
   "id": "984cf747",
   "metadata": {},
   "outputs": [],
   "source": [
    "def AGNES(data,k):\n",
    "    clusters = sc.AgglomerativeClustering(n_clusters=k,affinity='euclidean',linkage='complete')\n",
    "    clusters.fit_predict(data)\n",
    "    labels = clusters.labels_\n",
    "        \n",
    "    return labels"
   ]
  },
  {
   "cell_type": "markdown",
   "id": "5cb9a606",
   "metadata": {},
   "source": [
    "### Task :  Vary linkages and compare them"
   ]
  },
  {
   "cell_type": "code",
   "execution_count": 10,
   "id": "eb522b6b",
   "metadata": {},
   "outputs": [],
   "source": [
    "link_type = ['single','complete','average','centroid']"
   ]
  },
  {
   "cell_type": "code",
   "execution_count": 63,
   "id": "f16129e8",
   "metadata": {},
   "outputs": [],
   "source": [
    "def plot_dendrogram(data,x):\n",
    "    Z = linkage(data,method=x,metric='euclidean')\n",
    "    plt.figsize=(20,18)\n",
    "    dendrogram(Z,p=50,truncate_mode='lastp',orientation='top',distance_sort='descending',show_leaf_counts=True)\n",
    "    plt.title(\"Linkage type : \"+x)\n",
    "    plt.show()"
   ]
  },
  {
   "cell_type": "code",
   "execution_count": 64,
   "id": "8f5f0f46",
   "metadata": {},
   "outputs": [
    {
     "data": {
      "image/png": "[encoded data removed]",
      "text/plain": [
       "<Figure size 432x288 with 1 Axes>"
      ]
     },
     "metadata": {
      "needs_background": "light"
     },
     "output_type": "display_data"
    },
    {
     "data": {
      "image/png": "[encoded data removed]",
      "text/plain": [
       "<Figure size 432x288 with 1 Axes>"
      ]
     },
     "metadata": {
      "needs_background": "light"
     },
     "output_type": "display_data"
    },
    {
     "data": {
      "image/png": "[encoded data removed]",
      "text/plain": [
       "<Figure size 432x288 with 1 Axes>"
      ]
     },
     "metadata": {
      "needs_background": "light"
     },
     "output_type": "display_data"
    },
    {
     "data": {
      "image/png": "[encoded data removed]",
      "text/plain": [
       "<Figure size 432x288 with 1 Axes>"
      ]
     },
     "metadata": {
      "needs_background": "light"
     },
     "output_type": "display_data"
    }
   ],
   "source": [
    "for x in link_type:\n",
    "    plot_dendrogram(df_,x)"
   ]
  },
  {
   "cell_type": "markdown",
   "id": "2cd08f84",
   "metadata": {},
   "source": [
    "## Detect Outliers"
   ]
  },
  {
   "cell_type": "markdown",
   "id": "8a4037c3",
   "metadata": {},
   "source": [
    "**For Linkage type = 'complete' and Affinity = 'euclidean'**"
   ]
  },
  {
   "cell_type": "code",
   "execution_count": 180,
   "id": "daffabf5",
   "metadata": {},
   "outputs": [],
   "source": [
    "n_clust=4"
   ]
  },
  {
   "cell_type": "code",
   "execution_count": 181,
   "id": "ab0bcd87",
   "metadata": {},
   "outputs": [],
   "source": [
    "lb = AGNES(df_,n_clust)"
   ]
  },
  {
   "cell_type": "code",
   "execution_count": 182,
   "id": "bf75f47a",
   "metadata": {},
   "outputs": [
    {
     "data": {
      "text/plain": [
       "(18147,)"
      ]
     },
     "execution_count": 182,
     "metadata": {},
     "output_type": "execute_result"
    }
   ],
   "source": [
    "lb.shape"
   ]
  },
  {
   "cell_type": "code",
   "execution_count": 183,
   "id": "d6ddc140",
   "metadata": {},
   "outputs": [],
   "source": [
    "grouping = []"
   ]
  },
  {
   "cell_type": "code",
   "execution_count": 238,
   "id": "69654874",
   "metadata": {},
   "outputs": [
    {
     "name": "stdout",
     "output_type": "stream",
     "text": [
      "Size of cluster 1 is 4138\n",
      "Size of cluster 2 is 6875\n",
      "Size of cluster 3 is 2393\n",
      "Size of cluster 4 is 4741\n"
     ]
    }
   ],
   "source": [
    "for i in range(n_clust):\n",
    "    grouping.append(np.where(lb==i))\n",
    "    print(\"Size of cluster \"+str(i+1)+\" is \"+str(grouping[i][0].shape[0]))"
   ]
  },
  {
   "cell_type": "code",
   "execution_count": 240,
   "id": "c4cf6327",
   "metadata": {},
   "outputs": [],
   "source": [
    "def find_outliers(num_arr,cluster_id):\n",
    "    dist = np.sum((num_arr - num_arr.mean(axis = 0))**2, axis = 1)\n",
    "    q1, q2, q3 = np.percentile(dist,[25,50,75])\n",
    "    iqr = q3-q1\n",
    "    mn, mx = q1 - 1.5*iqr, q3 + 1.5*iqr\n",
    "    # indices in out_idx are based on the cluster array\n",
    "    out_idx = np.where((dist > mx) | (dist < mn))\n",
    "    \n",
    "    grp_pos=[]\n",
    "    if np.size(out_idx) !=0:\n",
    "        for i in range(np.size(out_idx)):\n",
    "            grp_pos.append(grouping[cluster_id][0][out_idx[0][i]])\n",
    "      \n",
    "    df_new = df1.iloc[grp_pos,36]\n",
    "    #print(cluster_id)\n",
    "    print(\"Outliers for Cluster \"+str(cluster_id+1)+\" are :\")\n",
    "    print(df_new)\n",
    "    \n",
    "    return dist\n",
    "    "
   ]
  },
  {
   "cell_type": "code",
   "execution_count": 241,
   "id": "a8ca5518",
   "metadata": {},
   "outputs": [],
   "source": [
    "cluster_info = []"
   ]
  },
  {
   "cell_type": "code",
   "execution_count": 242,
   "id": "06dc6db9",
   "metadata": {},
   "outputs": [
    {
     "name": "stdout",
     "output_type": "stream",
     "text": [
      "Outliers for Cluster 1 are :\n",
      "3288           J. Schunke\n",
      "3529           L. Ardente\n",
      "3676              J. Boye\n",
      "3924          F. Pisacane\n",
      "4150         A. Henríquez\n",
      "4379           L. Szukała\n",
      "4657               Arroyo\n",
      "7799             D. Iorfa\n",
      "8453            C. Traoré\n",
      "8919        Jailson Acuna\n",
      "9928        Teixeira José\n",
      "11558           K. Eisele\n",
      "13571           E. Hewitt\n",
      "15829          E. Osadebe\n",
      "15904           M. Sprang\n",
      "15973         K. Kirihata\n",
      "16888    L. Ashby-Hammond\n",
      "17522       M. Zapytowski\n",
      "17849        J. Osobiński\n",
      "17990       E. Destanoglu\n",
      "18134            J. Milli\n",
      "Name: Name, dtype: object\n",
      "Outliers for Cluster 2 are :\n",
      "8           Sergio Ramos\n",
      "12              D. Godín\n",
      "14              N. Kanté\n",
      "20       Sergio Busquets\n",
      "24          G. Chiellini\n",
      "              ...       \n",
      "14284            S. Boyd\n",
      "14384          B. Nugent\n",
      "14474       C. Robertson\n",
      "15917         D. Webster\n",
      "16337           C. Kenna\n",
      "Name: Name, Length: 276, dtype: object\n",
      "Outliers for Cluster 3 are :\n",
      "0                 L. Messi\n",
      "1        Cristiano Ronaldo\n",
      "2                Neymar Jr\n",
      "4             K. De Bruyne\n",
      "5                E. Hazard\n",
      "               ...        \n",
      "10994          A. Bischoff\n",
      "12260          J. Fujimoto\n",
      "12637          S. Suljevic\n",
      "14695               Y. Ota\n",
      "16118        Ryang Yong Gi\n",
      "Name: Name, Length: 87, dtype: object\n",
      "Outliers for Cluster 4 are :\n",
      "726                   Loren\n",
      "1333               Llorente\n",
      "1697             N. Redmond\n",
      "1975             C. Musonda\n",
      "2003               C. Larin\n",
      "                ...        \n",
      "17850         M. Skjellerup\n",
      "18080             K. Hawley\n",
      "18111           Y. Uchimura\n",
      "18140              J. Young\n",
      "18143    N. Christoffersson\n",
      "Name: Name, Length: 104, dtype: object\n"
     ]
    }
   ],
   "source": [
    "for x in range(n_clust):\n",
    "    num_arr = df_[grouping[x]][:]\n",
    "    cluster_info.append(find_outliers(num_arr,x))  "
   ]
  },
  {
   "cell_type": "code",
   "execution_count": 239,
   "id": "dc775540",
   "metadata": {},
   "outputs": [
    {
     "data": {
      "text/plain": [
       "Text(0, 0.5, 'Squared distance of each point from its cluster centroid')"
      ]
     },
     "execution_count": 239,
     "metadata": {},
     "output_type": "execute_result"
    },
    {
     "data": {
      "image/png": "[encoded data removed]",
      "text/plain": [
       "<Figure size 432x288 with 1 Axes>"
      ]
     },
     "metadata": {
      "needs_background": "light"
     },
     "output_type": "display_data"
    }
   ],
   "source": [
    "ppf_list = [cluster_info[0],cluster_info[1],cluster_info[2],cluster_info[3]]\n",
    "plt.boxplot(ppf_list)\n",
    "plt.xticks([1,2,3,4],np.arange(n_clust)+1)\n",
    "plt.title(\"Boxplot for k=4\")\n",
    "plt.ylabel(\"Squared distance of each point from its cluster centroid\")"
   ]
  },
  {
   "cell_type": "code",
   "execution_count": null,
   "id": "4516aae8",
   "metadata": {},
   "outputs": [],
   "source": []
  },
  {
   "cell_type": "code",
   "execution_count": null,
   "id": "cd30fe5c",
   "metadata": {},
   "outputs": [],
   "source": []
  }
 ],
 "metadata": {
  "kernelspec": {
   "display_name": "Python 3 (ipykernel)",
   "language": "python",
   "name": "python3"
  },
  "language_info": {
   "codemirror_mode": {
    "name": "ipython",
    "version": 3
   },
   "file_extension": ".py",
   "mimetype": "text/x-python",
   "name": "python",
   "nbconvert_exporter": "python",
   "pygments_lexer": "ipython3",
   "version": "3.8.12"
  }
 },
 "nbformat": 4,
 "nbformat_minor": 5
}
